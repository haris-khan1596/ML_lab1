{
  "nbformat": 4,
  "nbformat_minor": 0,
  "metadata": {
    "colab": {
      "provenance": []
    },
    "kernelspec": {
      "name": "python3",
      "display_name": "Python 3"
    },
    "language_info": {
      "name": "python"
    }
  },
  "cells": [
    {
      "cell_type": "markdown",
      "source": [
        "**Name**: Muhammad Haris Azaz Khan \n",
        "<br>**CMS ID**: 332445\n",
        "<br> **BESE-11A**\n",
        "<hr>"
      ],
      "metadata": {
        "id": "mX5BrvvQ_W2G"
      }
    },
    {
      "cell_type": "markdown",
      "source": [
        "# Without Pruning\n",
        "<hr>"
      ],
      "metadata": {
        "id": "cvw2YBXB_AdX"
      }
    },
    {
      "cell_type": "markdown",
      "source": [
        "- Importing every library required for ML"
      ],
      "metadata": {
        "id": "_qOFllVhx8cY"
      }
    },
    {
      "cell_type": "code",
      "source": [
        "import pandas as pd\n",
        "import numpy as np\n",
        "from sklearn import model_selection,tree\n",
        "import matplotlib.pyplot as plt\n",
        "%matplotlib inline\n",
        "import graphviz\n",
        "from sklearn.preprocessing import LabelEncoder"
      ],
      "metadata": {
        "id": "iCESFgvu-iL8"
      },
      "execution_count": null,
      "outputs": []
    },
    {
      "cell_type": "markdown",
      "source": [
        "## Importing Data"
      ],
      "metadata": {
        "id": "5saH7GD7AQLb"
      }
    },
    {
      "cell_type": "code",
      "execution_count": null,
      "metadata": {
        "colab": {
          "base_uri": "https://localhost:8080/",
          "height": 363
        },
        "id": "5J8qIP-Kxqke",
        "outputId": "b322e385-9014-4867-e8fb-36e9209268fe"
      },
      "outputs": [
        {
          "output_type": "execute_result",
          "data": {
            "text/plain": [
              "     buying_price maint_price no_doors capacity luggageboot safety  \\\n",
              "1556          low         med        3        4         big   high   \n",
              "945           med       vhigh    5more        2       small    low   \n",
              "872           med       vhigh        2        2         big   high   \n",
              "294         vhigh         med        4     more         big    low   \n",
              "510          high       vhigh        4     more         big    low   \n",
              "1395          low       vhigh    5more     more       small    low   \n",
              "1343          low       vhigh        3     more       small   high   \n",
              "1113          med         med        3        2         big    low   \n",
              "608          high        high        4        4         med   high   \n",
              "164         vhigh        high        4        2       small   high   \n",
              "\n",
              "     target_names  \n",
              "1556        vgood  \n",
              "945         unacc  \n",
              "872         unacc  \n",
              "294         unacc  \n",
              "510         unacc  \n",
              "1395        unacc  \n",
              "1343          acc  \n",
              "1113        unacc  \n",
              "608           acc  \n",
              "164         unacc  "
            ],
            "text/html": [
              "\n",
              "  <div id=\"df-b8475ff2-c656-480b-8f6d-3ba8bc64d772\">\n",
              "    <div class=\"colab-df-container\">\n",
              "      <div>\n",
              "<style scoped>\n",
              "    .dataframe tbody tr th:only-of-type {\n",
              "        vertical-align: middle;\n",
              "    }\n",
              "\n",
              "    .dataframe tbody tr th {\n",
              "        vertical-align: top;\n",
              "    }\n",
              "\n",
              "    .dataframe thead th {\n",
              "        text-align: right;\n",
              "    }\n",
              "</style>\n",
              "<table border=\"1\" class=\"dataframe\">\n",
              "  <thead>\n",
              "    <tr style=\"text-align: right;\">\n",
              "      <th></th>\n",
              "      <th>buying_price</th>\n",
              "      <th>maint_price</th>\n",
              "      <th>no_doors</th>\n",
              "      <th>capacity</th>\n",
              "      <th>luggageboot</th>\n",
              "      <th>safety</th>\n",
              "      <th>target_names</th>\n",
              "    </tr>\n",
              "  </thead>\n",
              "  <tbody>\n",
              "    <tr>\n",
              "      <th>1556</th>\n",
              "      <td>low</td>\n",
              "      <td>med</td>\n",
              "      <td>3</td>\n",
              "      <td>4</td>\n",
              "      <td>big</td>\n",
              "      <td>high</td>\n",
              "      <td>vgood</td>\n",
              "    </tr>\n",
              "    <tr>\n",
              "      <th>945</th>\n",
              "      <td>med</td>\n",
              "      <td>vhigh</td>\n",
              "      <td>5more</td>\n",
              "      <td>2</td>\n",
              "      <td>small</td>\n",
              "      <td>low</td>\n",
              "      <td>unacc</td>\n",
              "    </tr>\n",
              "    <tr>\n",
              "      <th>872</th>\n",
              "      <td>med</td>\n",
              "      <td>vhigh</td>\n",
              "      <td>2</td>\n",
              "      <td>2</td>\n",
              "      <td>big</td>\n",
              "      <td>high</td>\n",
              "      <td>unacc</td>\n",
              "    </tr>\n",
              "    <tr>\n",
              "      <th>294</th>\n",
              "      <td>vhigh</td>\n",
              "      <td>med</td>\n",
              "      <td>4</td>\n",
              "      <td>more</td>\n",
              "      <td>big</td>\n",
              "      <td>low</td>\n",
              "      <td>unacc</td>\n",
              "    </tr>\n",
              "    <tr>\n",
              "      <th>510</th>\n",
              "      <td>high</td>\n",
              "      <td>vhigh</td>\n",
              "      <td>4</td>\n",
              "      <td>more</td>\n",
              "      <td>big</td>\n",
              "      <td>low</td>\n",
              "      <td>unacc</td>\n",
              "    </tr>\n",
              "    <tr>\n",
              "      <th>1395</th>\n",
              "      <td>low</td>\n",
              "      <td>vhigh</td>\n",
              "      <td>5more</td>\n",
              "      <td>more</td>\n",
              "      <td>small</td>\n",
              "      <td>low</td>\n",
              "      <td>unacc</td>\n",
              "    </tr>\n",
              "    <tr>\n",
              "      <th>1343</th>\n",
              "      <td>low</td>\n",
              "      <td>vhigh</td>\n",
              "      <td>3</td>\n",
              "      <td>more</td>\n",
              "      <td>small</td>\n",
              "      <td>high</td>\n",
              "      <td>acc</td>\n",
              "    </tr>\n",
              "    <tr>\n",
              "      <th>1113</th>\n",
              "      <td>med</td>\n",
              "      <td>med</td>\n",
              "      <td>3</td>\n",
              "      <td>2</td>\n",
              "      <td>big</td>\n",
              "      <td>low</td>\n",
              "      <td>unacc</td>\n",
              "    </tr>\n",
              "    <tr>\n",
              "      <th>608</th>\n",
              "      <td>high</td>\n",
              "      <td>high</td>\n",
              "      <td>4</td>\n",
              "      <td>4</td>\n",
              "      <td>med</td>\n",
              "      <td>high</td>\n",
              "      <td>acc</td>\n",
              "    </tr>\n",
              "    <tr>\n",
              "      <th>164</th>\n",
              "      <td>vhigh</td>\n",
              "      <td>high</td>\n",
              "      <td>4</td>\n",
              "      <td>2</td>\n",
              "      <td>small</td>\n",
              "      <td>high</td>\n",
              "      <td>unacc</td>\n",
              "    </tr>\n",
              "  </tbody>\n",
              "</table>\n",
              "</div>\n",
              "      <button class=\"colab-df-convert\" onclick=\"convertToInteractive('df-b8475ff2-c656-480b-8f6d-3ba8bc64d772')\"\n",
              "              title=\"Convert this dataframe to an interactive table.\"\n",
              "              style=\"display:none;\">\n",
              "        \n",
              "  <svg xmlns=\"http://www.w3.org/2000/svg\" height=\"24px\"viewBox=\"0 0 24 24\"\n",
              "       width=\"24px\">\n",
              "    <path d=\"M0 0h24v24H0V0z\" fill=\"none\"/>\n",
              "    <path d=\"M18.56 5.44l.94 2.06.94-2.06 2.06-.94-2.06-.94-.94-2.06-.94 2.06-2.06.94zm-11 1L8.5 8.5l.94-2.06 2.06-.94-2.06-.94L8.5 2.5l-.94 2.06-2.06.94zm10 10l.94 2.06.94-2.06 2.06-.94-2.06-.94-.94-2.06-.94 2.06-2.06.94z\"/><path d=\"M17.41 7.96l-1.37-1.37c-.4-.4-.92-.59-1.43-.59-.52 0-1.04.2-1.43.59L10.3 9.45l-7.72 7.72c-.78.78-.78 2.05 0 2.83L4 21.41c.39.39.9.59 1.41.59.51 0 1.02-.2 1.41-.59l7.78-7.78 2.81-2.81c.8-.78.8-2.07 0-2.86zM5.41 20L4 18.59l7.72-7.72 1.47 1.35L5.41 20z\"/>\n",
              "  </svg>\n",
              "      </button>\n",
              "      \n",
              "  <style>\n",
              "    .colab-df-container {\n",
              "      display:flex;\n",
              "      flex-wrap:wrap;\n",
              "      gap: 12px;\n",
              "    }\n",
              "\n",
              "    .colab-df-convert {\n",
              "      background-color: #E8F0FE;\n",
              "      border: none;\n",
              "      border-radius: 50%;\n",
              "      cursor: pointer;\n",
              "      display: none;\n",
              "      fill: #1967D2;\n",
              "      height: 32px;\n",
              "      padding: 0 0 0 0;\n",
              "      width: 32px;\n",
              "    }\n",
              "\n",
              "    .colab-df-convert:hover {\n",
              "      background-color: #E2EBFA;\n",
              "      box-shadow: 0px 1px 2px rgba(60, 64, 67, 0.3), 0px 1px 3px 1px rgba(60, 64, 67, 0.15);\n",
              "      fill: #174EA6;\n",
              "    }\n",
              "\n",
              "    [theme=dark] .colab-df-convert {\n",
              "      background-color: #3B4455;\n",
              "      fill: #D2E3FC;\n",
              "    }\n",
              "\n",
              "    [theme=dark] .colab-df-convert:hover {\n",
              "      background-color: #434B5C;\n",
              "      box-shadow: 0px 1px 3px 1px rgba(0, 0, 0, 0.15);\n",
              "      filter: drop-shadow(0px 1px 2px rgba(0, 0, 0, 0.3));\n",
              "      fill: #FFFFFF;\n",
              "    }\n",
              "  </style>\n",
              "\n",
              "      <script>\n",
              "        const buttonEl =\n",
              "          document.querySelector('#df-b8475ff2-c656-480b-8f6d-3ba8bc64d772 button.colab-df-convert');\n",
              "        buttonEl.style.display =\n",
              "          google.colab.kernel.accessAllowed ? 'block' : 'none';\n",
              "\n",
              "        async function convertToInteractive(key) {\n",
              "          const element = document.querySelector('#df-b8475ff2-c656-480b-8f6d-3ba8bc64d772');\n",
              "          const dataTable =\n",
              "            await google.colab.kernel.invokeFunction('convertToInteractive',\n",
              "                                                     [key], {});\n",
              "          if (!dataTable) return;\n",
              "\n",
              "          const docLinkHtml = 'Like what you see? Visit the ' +\n",
              "            '<a target=\"_blank\" href=https://colab.research.google.com/notebooks/data_table.ipynb>data table notebook</a>'\n",
              "            + ' to learn more about interactive tables.';\n",
              "          element.innerHTML = '';\n",
              "          dataTable['output_type'] = 'display_data';\n",
              "          await google.colab.output.renderOutput(dataTable, element);\n",
              "          const docLink = document.createElement('div');\n",
              "          docLink.innerHTML = docLinkHtml;\n",
              "          element.appendChild(docLink);\n",
              "        }\n",
              "      </script>\n",
              "    </div>\n",
              "  </div>\n",
              "  "
            ]
          },
          "metadata": {},
          "execution_count": 4
        }
      ],
      "source": [
        "featureNames=[\"buying_price\",\"maint_price\",\"no_doors\",\"capacity\",\"luggageboot\",\"safety\"]\n",
        "fd= pd.read_csv(\"sample_data/car.csv\",names=featureNames+[\"target_names\"])\n",
        "df = pd.DataFrame(fd)\n",
        "df.sample(10)"
      ]
    },
    {
      "cell_type": "code",
      "source": [
        "df.info()"
      ],
      "metadata": {
        "colab": {
          "base_uri": "https://localhost:8080/"
        },
        "id": "euYS1_FCGcxf",
        "outputId": "9705cbba-3a35-45fb-d888-8c9f3e1a4667"
      },
      "execution_count": null,
      "outputs": [
        {
          "output_type": "stream",
          "name": "stdout",
          "text": [
            "<class 'pandas.core.frame.DataFrame'>\n",
            "RangeIndex: 1728 entries, 0 to 1727\n",
            "Data columns (total 7 columns):\n",
            " #   Column        Non-Null Count  Dtype \n",
            "---  ------        --------------  ----- \n",
            " 0   buying_price  1728 non-null   object\n",
            " 1   maint_price   1728 non-null   object\n",
            " 2   no_doors      1728 non-null   object\n",
            " 3   capacity      1728 non-null   object\n",
            " 4   luggageboot   1728 non-null   object\n",
            " 5   safety        1728 non-null   object\n",
            " 6   target_names  1728 non-null   object\n",
            "dtypes: object(7)\n",
            "memory usage: 94.6+ KB\n"
          ]
        }
      ]
    },
    {
      "cell_type": "markdown",
      "source": [
        "## Encoding features"
      ],
      "metadata": {
        "id": "0sRJYbkA8wXJ"
      }
    },
    {
      "cell_type": "code",
      "source": [
        "le = LabelEncoder()"
      ],
      "metadata": {
        "id": "ie9q6XuIGh3-"
      },
      "execution_count": null,
      "outputs": []
    },
    {
      "cell_type": "code",
      "source": [
        "for i in featureNames:\n",
        "  label=le.fit_transform(df[i])\n",
        "  df[i]=label\n",
        "df"
      ],
      "metadata": {
        "colab": {
          "base_uri": "https://localhost:8080/",
          "height": 424
        },
        "id": "oPZdVGAeG4LP",
        "outputId": "5e09fd43-395e-47d9-8352-bf217541d964"
      },
      "execution_count": null,
      "outputs": [
        {
          "output_type": "execute_result",
          "data": {
            "text/plain": [
              "      buying_price  maint_price  no_doors  capacity  luggageboot  safety  \\\n",
              "0                3            3         0         0            2       1   \n",
              "1                3            3         0         0            2       2   \n",
              "2                3            3         0         0            2       0   \n",
              "3                3            3         0         0            1       1   \n",
              "4                3            3         0         0            1       2   \n",
              "...            ...          ...       ...       ...          ...     ...   \n",
              "1723             1            1         3         2            1       2   \n",
              "1724             1            1         3         2            1       0   \n",
              "1725             1            1         3         2            0       1   \n",
              "1726             1            1         3         2            0       2   \n",
              "1727             1            1         3         2            0       0   \n",
              "\n",
              "     target_names  \n",
              "0           unacc  \n",
              "1           unacc  \n",
              "2           unacc  \n",
              "3           unacc  \n",
              "4           unacc  \n",
              "...           ...  \n",
              "1723         good  \n",
              "1724        vgood  \n",
              "1725        unacc  \n",
              "1726         good  \n",
              "1727        vgood  \n",
              "\n",
              "[1728 rows x 7 columns]"
            ],
            "text/html": [
              "\n",
              "  <div id=\"df-f828e726-2f94-4677-826b-98efad579173\">\n",
              "    <div class=\"colab-df-container\">\n",
              "      <div>\n",
              "<style scoped>\n",
              "    .dataframe tbody tr th:only-of-type {\n",
              "        vertical-align: middle;\n",
              "    }\n",
              "\n",
              "    .dataframe tbody tr th {\n",
              "        vertical-align: top;\n",
              "    }\n",
              "\n",
              "    .dataframe thead th {\n",
              "        text-align: right;\n",
              "    }\n",
              "</style>\n",
              "<table border=\"1\" class=\"dataframe\">\n",
              "  <thead>\n",
              "    <tr style=\"text-align: right;\">\n",
              "      <th></th>\n",
              "      <th>buying_price</th>\n",
              "      <th>maint_price</th>\n",
              "      <th>no_doors</th>\n",
              "      <th>capacity</th>\n",
              "      <th>luggageboot</th>\n",
              "      <th>safety</th>\n",
              "      <th>target_names</th>\n",
              "    </tr>\n",
              "  </thead>\n",
              "  <tbody>\n",
              "    <tr>\n",
              "      <th>0</th>\n",
              "      <td>3</td>\n",
              "      <td>3</td>\n",
              "      <td>0</td>\n",
              "      <td>0</td>\n",
              "      <td>2</td>\n",
              "      <td>1</td>\n",
              "      <td>unacc</td>\n",
              "    </tr>\n",
              "    <tr>\n",
              "      <th>1</th>\n",
              "      <td>3</td>\n",
              "      <td>3</td>\n",
              "      <td>0</td>\n",
              "      <td>0</td>\n",
              "      <td>2</td>\n",
              "      <td>2</td>\n",
              "      <td>unacc</td>\n",
              "    </tr>\n",
              "    <tr>\n",
              "      <th>2</th>\n",
              "      <td>3</td>\n",
              "      <td>3</td>\n",
              "      <td>0</td>\n",
              "      <td>0</td>\n",
              "      <td>2</td>\n",
              "      <td>0</td>\n",
              "      <td>unacc</td>\n",
              "    </tr>\n",
              "    <tr>\n",
              "      <th>3</th>\n",
              "      <td>3</td>\n",
              "      <td>3</td>\n",
              "      <td>0</td>\n",
              "      <td>0</td>\n",
              "      <td>1</td>\n",
              "      <td>1</td>\n",
              "      <td>unacc</td>\n",
              "    </tr>\n",
              "    <tr>\n",
              "      <th>4</th>\n",
              "      <td>3</td>\n",
              "      <td>3</td>\n",
              "      <td>0</td>\n",
              "      <td>0</td>\n",
              "      <td>1</td>\n",
              "      <td>2</td>\n",
              "      <td>unacc</td>\n",
              "    </tr>\n",
              "    <tr>\n",
              "      <th>...</th>\n",
              "      <td>...</td>\n",
              "      <td>...</td>\n",
              "      <td>...</td>\n",
              "      <td>...</td>\n",
              "      <td>...</td>\n",
              "      <td>...</td>\n",
              "      <td>...</td>\n",
              "    </tr>\n",
              "    <tr>\n",
              "      <th>1723</th>\n",
              "      <td>1</td>\n",
              "      <td>1</td>\n",
              "      <td>3</td>\n",
              "      <td>2</td>\n",
              "      <td>1</td>\n",
              "      <td>2</td>\n",
              "      <td>good</td>\n",
              "    </tr>\n",
              "    <tr>\n",
              "      <th>1724</th>\n",
              "      <td>1</td>\n",
              "      <td>1</td>\n",
              "      <td>3</td>\n",
              "      <td>2</td>\n",
              "      <td>1</td>\n",
              "      <td>0</td>\n",
              "      <td>vgood</td>\n",
              "    </tr>\n",
              "    <tr>\n",
              "      <th>1725</th>\n",
              "      <td>1</td>\n",
              "      <td>1</td>\n",
              "      <td>3</td>\n",
              "      <td>2</td>\n",
              "      <td>0</td>\n",
              "      <td>1</td>\n",
              "      <td>unacc</td>\n",
              "    </tr>\n",
              "    <tr>\n",
              "      <th>1726</th>\n",
              "      <td>1</td>\n",
              "      <td>1</td>\n",
              "      <td>3</td>\n",
              "      <td>2</td>\n",
              "      <td>0</td>\n",
              "      <td>2</td>\n",
              "      <td>good</td>\n",
              "    </tr>\n",
              "    <tr>\n",
              "      <th>1727</th>\n",
              "      <td>1</td>\n",
              "      <td>1</td>\n",
              "      <td>3</td>\n",
              "      <td>2</td>\n",
              "      <td>0</td>\n",
              "      <td>0</td>\n",
              "      <td>vgood</td>\n",
              "    </tr>\n",
              "  </tbody>\n",
              "</table>\n",
              "<p>1728 rows × 7 columns</p>\n",
              "</div>\n",
              "      <button class=\"colab-df-convert\" onclick=\"convertToInteractive('df-f828e726-2f94-4677-826b-98efad579173')\"\n",
              "              title=\"Convert this dataframe to an interactive table.\"\n",
              "              style=\"display:none;\">\n",
              "        \n",
              "  <svg xmlns=\"http://www.w3.org/2000/svg\" height=\"24px\"viewBox=\"0 0 24 24\"\n",
              "       width=\"24px\">\n",
              "    <path d=\"M0 0h24v24H0V0z\" fill=\"none\"/>\n",
              "    <path d=\"M18.56 5.44l.94 2.06.94-2.06 2.06-.94-2.06-.94-.94-2.06-.94 2.06-2.06.94zm-11 1L8.5 8.5l.94-2.06 2.06-.94-2.06-.94L8.5 2.5l-.94 2.06-2.06.94zm10 10l.94 2.06.94-2.06 2.06-.94-2.06-.94-.94-2.06-.94 2.06-2.06.94z\"/><path d=\"M17.41 7.96l-1.37-1.37c-.4-.4-.92-.59-1.43-.59-.52 0-1.04.2-1.43.59L10.3 9.45l-7.72 7.72c-.78.78-.78 2.05 0 2.83L4 21.41c.39.39.9.59 1.41.59.51 0 1.02-.2 1.41-.59l7.78-7.78 2.81-2.81c.8-.78.8-2.07 0-2.86zM5.41 20L4 18.59l7.72-7.72 1.47 1.35L5.41 20z\"/>\n",
              "  </svg>\n",
              "      </button>\n",
              "      \n",
              "  <style>\n",
              "    .colab-df-container {\n",
              "      display:flex;\n",
              "      flex-wrap:wrap;\n",
              "      gap: 12px;\n",
              "    }\n",
              "\n",
              "    .colab-df-convert {\n",
              "      background-color: #E8F0FE;\n",
              "      border: none;\n",
              "      border-radius: 50%;\n",
              "      cursor: pointer;\n",
              "      display: none;\n",
              "      fill: #1967D2;\n",
              "      height: 32px;\n",
              "      padding: 0 0 0 0;\n",
              "      width: 32px;\n",
              "    }\n",
              "\n",
              "    .colab-df-convert:hover {\n",
              "      background-color: #E2EBFA;\n",
              "      box-shadow: 0px 1px 2px rgba(60, 64, 67, 0.3), 0px 1px 3px 1px rgba(60, 64, 67, 0.15);\n",
              "      fill: #174EA6;\n",
              "    }\n",
              "\n",
              "    [theme=dark] .colab-df-convert {\n",
              "      background-color: #3B4455;\n",
              "      fill: #D2E3FC;\n",
              "    }\n",
              "\n",
              "    [theme=dark] .colab-df-convert:hover {\n",
              "      background-color: #434B5C;\n",
              "      box-shadow: 0px 1px 3px 1px rgba(0, 0, 0, 0.15);\n",
              "      filter: drop-shadow(0px 1px 2px rgba(0, 0, 0, 0.3));\n",
              "      fill: #FFFFFF;\n",
              "    }\n",
              "  </style>\n",
              "\n",
              "      <script>\n",
              "        const buttonEl =\n",
              "          document.querySelector('#df-f828e726-2f94-4677-826b-98efad579173 button.colab-df-convert');\n",
              "        buttonEl.style.display =\n",
              "          google.colab.kernel.accessAllowed ? 'block' : 'none';\n",
              "\n",
              "        async function convertToInteractive(key) {\n",
              "          const element = document.querySelector('#df-f828e726-2f94-4677-826b-98efad579173');\n",
              "          const dataTable =\n",
              "            await google.colab.kernel.invokeFunction('convertToInteractive',\n",
              "                                                     [key], {});\n",
              "          if (!dataTable) return;\n",
              "\n",
              "          const docLinkHtml = 'Like what you see? Visit the ' +\n",
              "            '<a target=\"_blank\" href=https://colab.research.google.com/notebooks/data_table.ipynb>data table notebook</a>'\n",
              "            + ' to learn more about interactive tables.';\n",
              "          element.innerHTML = '';\n",
              "          dataTable['output_type'] = 'display_data';\n",
              "          await google.colab.output.renderOutput(dataTable, element);\n",
              "          const docLink = document.createElement('div');\n",
              "          docLink.innerHTML = docLinkHtml;\n",
              "          element.appendChild(docLink);\n",
              "        }\n",
              "      </script>\n",
              "    </div>\n",
              "  </div>\n",
              "  "
            ]
          },
          "metadata": {},
          "execution_count": 7
        }
      ]
    },
    {
      "cell_type": "code",
      "source": [
        "label=le.fit_transform(df[\"target_names\"])\n",
        "df[\"target\"]=label"
      ],
      "metadata": {
        "id": "kw5VyNxBM-X-"
      },
      "execution_count": null,
      "outputs": []
    },
    {
      "cell_type": "code",
      "execution_count": null,
      "metadata": {
        "execution": {
          "iopub.execute_input": "2020-12-06T07:07:25.189798Z",
          "iopub.status.busy": "2020-12-06T07:07:25.188798Z",
          "iopub.status.idle": "2020-12-06T07:07:25.193983Z",
          "shell.execute_reply": "2020-12-06T07:07:25.193291Z"
        },
        "papermill": {
          "duration": 0.05694,
          "end_time": "2020-12-06T07:07:25.194097",
          "exception": false,
          "start_time": "2020-12-06T07:07:25.137157",
          "status": "completed"
        },
        "tags": [],
        "colab": {
          "base_uri": "https://localhost:8080/",
          "height": 206
        },
        "outputId": "10581908-8612-4e3e-e499-4cc45f16033d",
        "id": "EXnL9D4LIuZj"
      },
      "outputs": [
        {
          "output_type": "execute_result",
          "data": {
            "text/plain": [
              "     buying_price  maint_price  no_doors  capacity  luggageboot  safety  \\\n",
              "227             3            2         0         1            2       0   \n",
              "230             3            2         0         1            1       0   \n",
              "232             3            2         0         1            0       2   \n",
              "233             3            2         0         1            0       0   \n",
              "239             3            2         0         2            1       0   \n",
              "\n",
              "    target_names  target  \n",
              "227          acc       0  \n",
              "230          acc       0  \n",
              "232          acc       0  \n",
              "233          acc       0  \n",
              "239          acc       0  "
            ],
            "text/html": [
              "\n",
              "  <div id=\"df-41c7e337-5249-4972-b4df-80af422df452\">\n",
              "    <div class=\"colab-df-container\">\n",
              "      <div>\n",
              "<style scoped>\n",
              "    .dataframe tbody tr th:only-of-type {\n",
              "        vertical-align: middle;\n",
              "    }\n",
              "\n",
              "    .dataframe tbody tr th {\n",
              "        vertical-align: top;\n",
              "    }\n",
              "\n",
              "    .dataframe thead th {\n",
              "        text-align: right;\n",
              "    }\n",
              "</style>\n",
              "<table border=\"1\" class=\"dataframe\">\n",
              "  <thead>\n",
              "    <tr style=\"text-align: right;\">\n",
              "      <th></th>\n",
              "      <th>buying_price</th>\n",
              "      <th>maint_price</th>\n",
              "      <th>no_doors</th>\n",
              "      <th>capacity</th>\n",
              "      <th>luggageboot</th>\n",
              "      <th>safety</th>\n",
              "      <th>target_names</th>\n",
              "      <th>target</th>\n",
              "    </tr>\n",
              "  </thead>\n",
              "  <tbody>\n",
              "    <tr>\n",
              "      <th>227</th>\n",
              "      <td>3</td>\n",
              "      <td>2</td>\n",
              "      <td>0</td>\n",
              "      <td>1</td>\n",
              "      <td>2</td>\n",
              "      <td>0</td>\n",
              "      <td>acc</td>\n",
              "      <td>0</td>\n",
              "    </tr>\n",
              "    <tr>\n",
              "      <th>230</th>\n",
              "      <td>3</td>\n",
              "      <td>2</td>\n",
              "      <td>0</td>\n",
              "      <td>1</td>\n",
              "      <td>1</td>\n",
              "      <td>0</td>\n",
              "      <td>acc</td>\n",
              "      <td>0</td>\n",
              "    </tr>\n",
              "    <tr>\n",
              "      <th>232</th>\n",
              "      <td>3</td>\n",
              "      <td>2</td>\n",
              "      <td>0</td>\n",
              "      <td>1</td>\n",
              "      <td>0</td>\n",
              "      <td>2</td>\n",
              "      <td>acc</td>\n",
              "      <td>0</td>\n",
              "    </tr>\n",
              "    <tr>\n",
              "      <th>233</th>\n",
              "      <td>3</td>\n",
              "      <td>2</td>\n",
              "      <td>0</td>\n",
              "      <td>1</td>\n",
              "      <td>0</td>\n",
              "      <td>0</td>\n",
              "      <td>acc</td>\n",
              "      <td>0</td>\n",
              "    </tr>\n",
              "    <tr>\n",
              "      <th>239</th>\n",
              "      <td>3</td>\n",
              "      <td>2</td>\n",
              "      <td>0</td>\n",
              "      <td>2</td>\n",
              "      <td>1</td>\n",
              "      <td>0</td>\n",
              "      <td>acc</td>\n",
              "      <td>0</td>\n",
              "    </tr>\n",
              "  </tbody>\n",
              "</table>\n",
              "</div>\n",
              "      <button class=\"colab-df-convert\" onclick=\"convertToInteractive('df-41c7e337-5249-4972-b4df-80af422df452')\"\n",
              "              title=\"Convert this dataframe to an interactive table.\"\n",
              "              style=\"display:none;\">\n",
              "        \n",
              "  <svg xmlns=\"http://www.w3.org/2000/svg\" height=\"24px\"viewBox=\"0 0 24 24\"\n",
              "       width=\"24px\">\n",
              "    <path d=\"M0 0h24v24H0V0z\" fill=\"none\"/>\n",
              "    <path d=\"M18.56 5.44l.94 2.06.94-2.06 2.06-.94-2.06-.94-.94-2.06-.94 2.06-2.06.94zm-11 1L8.5 8.5l.94-2.06 2.06-.94-2.06-.94L8.5 2.5l-.94 2.06-2.06.94zm10 10l.94 2.06.94-2.06 2.06-.94-2.06-.94-.94-2.06-.94 2.06-2.06.94z\"/><path d=\"M17.41 7.96l-1.37-1.37c-.4-.4-.92-.59-1.43-.59-.52 0-1.04.2-1.43.59L10.3 9.45l-7.72 7.72c-.78.78-.78 2.05 0 2.83L4 21.41c.39.39.9.59 1.41.59.51 0 1.02-.2 1.41-.59l7.78-7.78 2.81-2.81c.8-.78.8-2.07 0-2.86zM5.41 20L4 18.59l7.72-7.72 1.47 1.35L5.41 20z\"/>\n",
              "  </svg>\n",
              "      </button>\n",
              "      \n",
              "  <style>\n",
              "    .colab-df-container {\n",
              "      display:flex;\n",
              "      flex-wrap:wrap;\n",
              "      gap: 12px;\n",
              "    }\n",
              "\n",
              "    .colab-df-convert {\n",
              "      background-color: #E8F0FE;\n",
              "      border: none;\n",
              "      border-radius: 50%;\n",
              "      cursor: pointer;\n",
              "      display: none;\n",
              "      fill: #1967D2;\n",
              "      height: 32px;\n",
              "      padding: 0 0 0 0;\n",
              "      width: 32px;\n",
              "    }\n",
              "\n",
              "    .colab-df-convert:hover {\n",
              "      background-color: #E2EBFA;\n",
              "      box-shadow: 0px 1px 2px rgba(60, 64, 67, 0.3), 0px 1px 3px 1px rgba(60, 64, 67, 0.15);\n",
              "      fill: #174EA6;\n",
              "    }\n",
              "\n",
              "    [theme=dark] .colab-df-convert {\n",
              "      background-color: #3B4455;\n",
              "      fill: #D2E3FC;\n",
              "    }\n",
              "\n",
              "    [theme=dark] .colab-df-convert:hover {\n",
              "      background-color: #434B5C;\n",
              "      box-shadow: 0px 1px 3px 1px rgba(0, 0, 0, 0.15);\n",
              "      filter: drop-shadow(0px 1px 2px rgba(0, 0, 0, 0.3));\n",
              "      fill: #FFFFFF;\n",
              "    }\n",
              "  </style>\n",
              "\n",
              "      <script>\n",
              "        const buttonEl =\n",
              "          document.querySelector('#df-41c7e337-5249-4972-b4df-80af422df452 button.colab-df-convert');\n",
              "        buttonEl.style.display =\n",
              "          google.colab.kernel.accessAllowed ? 'block' : 'none';\n",
              "\n",
              "        async function convertToInteractive(key) {\n",
              "          const element = document.querySelector('#df-41c7e337-5249-4972-b4df-80af422df452');\n",
              "          const dataTable =\n",
              "            await google.colab.kernel.invokeFunction('convertToInteractive',\n",
              "                                                     [key], {});\n",
              "          if (!dataTable) return;\n",
              "\n",
              "          const docLinkHtml = 'Like what you see? Visit the ' +\n",
              "            '<a target=\"_blank\" href=https://colab.research.google.com/notebooks/data_table.ipynb>data table notebook</a>'\n",
              "            + ' to learn more about interactive tables.';\n",
              "          element.innerHTML = '';\n",
              "          dataTable['output_type'] = 'display_data';\n",
              "          await google.colab.output.renderOutput(dataTable, element);\n",
              "          const docLink = document.createElement('div');\n",
              "          docLink.innerHTML = docLinkHtml;\n",
              "          element.appendChild(docLink);\n",
              "        }\n",
              "      </script>\n",
              "    </div>\n",
              "  </div>\n",
              "  "
            ]
          },
          "metadata": {},
          "execution_count": 9
        }
      ],
      "source": [
        "#Print the top five samples of acc class\n",
        "##TO DO\n",
        "specie = df[\"target\"] == 0\n",
        "df[specie].head()"
      ]
    },
    {
      "cell_type": "code",
      "execution_count": null,
      "metadata": {
        "execution": {
          "iopub.execute_input": "2020-12-06T07:07:25.189798Z",
          "iopub.status.busy": "2020-12-06T07:07:25.188798Z",
          "iopub.status.idle": "2020-12-06T07:07:25.193983Z",
          "shell.execute_reply": "2020-12-06T07:07:25.193291Z"
        },
        "papermill": {
          "duration": 0.05694,
          "end_time": "2020-12-06T07:07:25.194097",
          "exception": false,
          "start_time": "2020-12-06T07:07:25.137157",
          "status": "completed"
        },
        "tags": [],
        "colab": {
          "base_uri": "https://localhost:8080/",
          "height": 206
        },
        "outputId": "76db3ef1-ef4b-431a-bd43-5ec94f749507",
        "id": "sEQKJZpWIsBx"
      },
      "outputs": [
        {
          "output_type": "execute_result",
          "data": {
            "text/plain": [
              "      buying_price  maint_price  no_doors  capacity  luggageboot  safety  \\\n",
              "1199             2            1         0         1            2       0   \n",
              "1202             2            1         0         1            1       0   \n",
              "1204             2            1         0         1            0       2   \n",
              "1211             2            1         0         2            1       0   \n",
              "1213             2            1         0         2            0       2   \n",
              "\n",
              "     target_names  target  \n",
              "1199         good       1  \n",
              "1202         good       1  \n",
              "1204         good       1  \n",
              "1211         good       1  \n",
              "1213         good       1  "
            ],
            "text/html": [
              "\n",
              "  <div id=\"df-3beb5000-f035-4ca5-9ff0-e1a70c7361c6\">\n",
              "    <div class=\"colab-df-container\">\n",
              "      <div>\n",
              "<style scoped>\n",
              "    .dataframe tbody tr th:only-of-type {\n",
              "        vertical-align: middle;\n",
              "    }\n",
              "\n",
              "    .dataframe tbody tr th {\n",
              "        vertical-align: top;\n",
              "    }\n",
              "\n",
              "    .dataframe thead th {\n",
              "        text-align: right;\n",
              "    }\n",
              "</style>\n",
              "<table border=\"1\" class=\"dataframe\">\n",
              "  <thead>\n",
              "    <tr style=\"text-align: right;\">\n",
              "      <th></th>\n",
              "      <th>buying_price</th>\n",
              "      <th>maint_price</th>\n",
              "      <th>no_doors</th>\n",
              "      <th>capacity</th>\n",
              "      <th>luggageboot</th>\n",
              "      <th>safety</th>\n",
              "      <th>target_names</th>\n",
              "      <th>target</th>\n",
              "    </tr>\n",
              "  </thead>\n",
              "  <tbody>\n",
              "    <tr>\n",
              "      <th>1199</th>\n",
              "      <td>2</td>\n",
              "      <td>1</td>\n",
              "      <td>0</td>\n",
              "      <td>1</td>\n",
              "      <td>2</td>\n",
              "      <td>0</td>\n",
              "      <td>good</td>\n",
              "      <td>1</td>\n",
              "    </tr>\n",
              "    <tr>\n",
              "      <th>1202</th>\n",
              "      <td>2</td>\n",
              "      <td>1</td>\n",
              "      <td>0</td>\n",
              "      <td>1</td>\n",
              "      <td>1</td>\n",
              "      <td>0</td>\n",
              "      <td>good</td>\n",
              "      <td>1</td>\n",
              "    </tr>\n",
              "    <tr>\n",
              "      <th>1204</th>\n",
              "      <td>2</td>\n",
              "      <td>1</td>\n",
              "      <td>0</td>\n",
              "      <td>1</td>\n",
              "      <td>0</td>\n",
              "      <td>2</td>\n",
              "      <td>good</td>\n",
              "      <td>1</td>\n",
              "    </tr>\n",
              "    <tr>\n",
              "      <th>1211</th>\n",
              "      <td>2</td>\n",
              "      <td>1</td>\n",
              "      <td>0</td>\n",
              "      <td>2</td>\n",
              "      <td>1</td>\n",
              "      <td>0</td>\n",
              "      <td>good</td>\n",
              "      <td>1</td>\n",
              "    </tr>\n",
              "    <tr>\n",
              "      <th>1213</th>\n",
              "      <td>2</td>\n",
              "      <td>1</td>\n",
              "      <td>0</td>\n",
              "      <td>2</td>\n",
              "      <td>0</td>\n",
              "      <td>2</td>\n",
              "      <td>good</td>\n",
              "      <td>1</td>\n",
              "    </tr>\n",
              "  </tbody>\n",
              "</table>\n",
              "</div>\n",
              "      <button class=\"colab-df-convert\" onclick=\"convertToInteractive('df-3beb5000-f035-4ca5-9ff0-e1a70c7361c6')\"\n",
              "              title=\"Convert this dataframe to an interactive table.\"\n",
              "              style=\"display:none;\">\n",
              "        \n",
              "  <svg xmlns=\"http://www.w3.org/2000/svg\" height=\"24px\"viewBox=\"0 0 24 24\"\n",
              "       width=\"24px\">\n",
              "    <path d=\"M0 0h24v24H0V0z\" fill=\"none\"/>\n",
              "    <path d=\"M18.56 5.44l.94 2.06.94-2.06 2.06-.94-2.06-.94-.94-2.06-.94 2.06-2.06.94zm-11 1L8.5 8.5l.94-2.06 2.06-.94-2.06-.94L8.5 2.5l-.94 2.06-2.06.94zm10 10l.94 2.06.94-2.06 2.06-.94-2.06-.94-.94-2.06-.94 2.06-2.06.94z\"/><path d=\"M17.41 7.96l-1.37-1.37c-.4-.4-.92-.59-1.43-.59-.52 0-1.04.2-1.43.59L10.3 9.45l-7.72 7.72c-.78.78-.78 2.05 0 2.83L4 21.41c.39.39.9.59 1.41.59.51 0 1.02-.2 1.41-.59l7.78-7.78 2.81-2.81c.8-.78.8-2.07 0-2.86zM5.41 20L4 18.59l7.72-7.72 1.47 1.35L5.41 20z\"/>\n",
              "  </svg>\n",
              "      </button>\n",
              "      \n",
              "  <style>\n",
              "    .colab-df-container {\n",
              "      display:flex;\n",
              "      flex-wrap:wrap;\n",
              "      gap: 12px;\n",
              "    }\n",
              "\n",
              "    .colab-df-convert {\n",
              "      background-color: #E8F0FE;\n",
              "      border: none;\n",
              "      border-radius: 50%;\n",
              "      cursor: pointer;\n",
              "      display: none;\n",
              "      fill: #1967D2;\n",
              "      height: 32px;\n",
              "      padding: 0 0 0 0;\n",
              "      width: 32px;\n",
              "    }\n",
              "\n",
              "    .colab-df-convert:hover {\n",
              "      background-color: #E2EBFA;\n",
              "      box-shadow: 0px 1px 2px rgba(60, 64, 67, 0.3), 0px 1px 3px 1px rgba(60, 64, 67, 0.15);\n",
              "      fill: #174EA6;\n",
              "    }\n",
              "\n",
              "    [theme=dark] .colab-df-convert {\n",
              "      background-color: #3B4455;\n",
              "      fill: #D2E3FC;\n",
              "    }\n",
              "\n",
              "    [theme=dark] .colab-df-convert:hover {\n",
              "      background-color: #434B5C;\n",
              "      box-shadow: 0px 1px 3px 1px rgba(0, 0, 0, 0.15);\n",
              "      filter: drop-shadow(0px 1px 2px rgba(0, 0, 0, 0.3));\n",
              "      fill: #FFFFFF;\n",
              "    }\n",
              "  </style>\n",
              "\n",
              "      <script>\n",
              "        const buttonEl =\n",
              "          document.querySelector('#df-3beb5000-f035-4ca5-9ff0-e1a70c7361c6 button.colab-df-convert');\n",
              "        buttonEl.style.display =\n",
              "          google.colab.kernel.accessAllowed ? 'block' : 'none';\n",
              "\n",
              "        async function convertToInteractive(key) {\n",
              "          const element = document.querySelector('#df-3beb5000-f035-4ca5-9ff0-e1a70c7361c6');\n",
              "          const dataTable =\n",
              "            await google.colab.kernel.invokeFunction('convertToInteractive',\n",
              "                                                     [key], {});\n",
              "          if (!dataTable) return;\n",
              "\n",
              "          const docLinkHtml = 'Like what you see? Visit the ' +\n",
              "            '<a target=\"_blank\" href=https://colab.research.google.com/notebooks/data_table.ipynb>data table notebook</a>'\n",
              "            + ' to learn more about interactive tables.';\n",
              "          element.innerHTML = '';\n",
              "          dataTable['output_type'] = 'display_data';\n",
              "          await google.colab.output.renderOutput(dataTable, element);\n",
              "          const docLink = document.createElement('div');\n",
              "          docLink.innerHTML = docLinkHtml;\n",
              "          element.appendChild(docLink);\n",
              "        }\n",
              "      </script>\n",
              "    </div>\n",
              "  </div>\n",
              "  "
            ]
          },
          "metadata": {},
          "execution_count": 10
        }
      ],
      "source": [
        "#Print the top five samples of good class\n",
        "##TO DO\n",
        "specie1 = df[\"target\"] == 1\n",
        "df[specie1].head()"
      ]
    },
    {
      "cell_type": "code",
      "execution_count": null,
      "metadata": {
        "execution": {
          "iopub.execute_input": "2020-12-06T07:07:25.189798Z",
          "iopub.status.busy": "2020-12-06T07:07:25.188798Z",
          "iopub.status.idle": "2020-12-06T07:07:25.193983Z",
          "shell.execute_reply": "2020-12-06T07:07:25.193291Z"
        },
        "papermill": {
          "duration": 0.05694,
          "end_time": "2020-12-06T07:07:25.194097",
          "exception": false,
          "start_time": "2020-12-06T07:07:25.137157",
          "status": "completed"
        },
        "tags": [],
        "colab": {
          "base_uri": "https://localhost:8080/",
          "height": 206
        },
        "outputId": "57d5aebd-9df8-48ee-d667-9cc642b132c2",
        "id": "-OWh8KZtIpGI"
      },
      "outputs": [
        {
          "output_type": "execute_result",
          "data": {
            "text/plain": [
              "   buying_price  maint_price  no_doors  capacity  luggageboot  safety  \\\n",
              "0             3            3         0         0            2       1   \n",
              "1             3            3         0         0            2       2   \n",
              "2             3            3         0         0            2       0   \n",
              "3             3            3         0         0            1       1   \n",
              "4             3            3         0         0            1       2   \n",
              "\n",
              "  target_names  target  \n",
              "0        unacc       2  \n",
              "1        unacc       2  \n",
              "2        unacc       2  \n",
              "3        unacc       2  \n",
              "4        unacc       2  "
            ],
            "text/html": [
              "\n",
              "  <div id=\"df-0f6a9606-2244-4f15-b5be-d7d49cfba203\">\n",
              "    <div class=\"colab-df-container\">\n",
              "      <div>\n",
              "<style scoped>\n",
              "    .dataframe tbody tr th:only-of-type {\n",
              "        vertical-align: middle;\n",
              "    }\n",
              "\n",
              "    .dataframe tbody tr th {\n",
              "        vertical-align: top;\n",
              "    }\n",
              "\n",
              "    .dataframe thead th {\n",
              "        text-align: right;\n",
              "    }\n",
              "</style>\n",
              "<table border=\"1\" class=\"dataframe\">\n",
              "  <thead>\n",
              "    <tr style=\"text-align: right;\">\n",
              "      <th></th>\n",
              "      <th>buying_price</th>\n",
              "      <th>maint_price</th>\n",
              "      <th>no_doors</th>\n",
              "      <th>capacity</th>\n",
              "      <th>luggageboot</th>\n",
              "      <th>safety</th>\n",
              "      <th>target_names</th>\n",
              "      <th>target</th>\n",
              "    </tr>\n",
              "  </thead>\n",
              "  <tbody>\n",
              "    <tr>\n",
              "      <th>0</th>\n",
              "      <td>3</td>\n",
              "      <td>3</td>\n",
              "      <td>0</td>\n",
              "      <td>0</td>\n",
              "      <td>2</td>\n",
              "      <td>1</td>\n",
              "      <td>unacc</td>\n",
              "      <td>2</td>\n",
              "    </tr>\n",
              "    <tr>\n",
              "      <th>1</th>\n",
              "      <td>3</td>\n",
              "      <td>3</td>\n",
              "      <td>0</td>\n",
              "      <td>0</td>\n",
              "      <td>2</td>\n",
              "      <td>2</td>\n",
              "      <td>unacc</td>\n",
              "      <td>2</td>\n",
              "    </tr>\n",
              "    <tr>\n",
              "      <th>2</th>\n",
              "      <td>3</td>\n",
              "      <td>3</td>\n",
              "      <td>0</td>\n",
              "      <td>0</td>\n",
              "      <td>2</td>\n",
              "      <td>0</td>\n",
              "      <td>unacc</td>\n",
              "      <td>2</td>\n",
              "    </tr>\n",
              "    <tr>\n",
              "      <th>3</th>\n",
              "      <td>3</td>\n",
              "      <td>3</td>\n",
              "      <td>0</td>\n",
              "      <td>0</td>\n",
              "      <td>1</td>\n",
              "      <td>1</td>\n",
              "      <td>unacc</td>\n",
              "      <td>2</td>\n",
              "    </tr>\n",
              "    <tr>\n",
              "      <th>4</th>\n",
              "      <td>3</td>\n",
              "      <td>3</td>\n",
              "      <td>0</td>\n",
              "      <td>0</td>\n",
              "      <td>1</td>\n",
              "      <td>2</td>\n",
              "      <td>unacc</td>\n",
              "      <td>2</td>\n",
              "    </tr>\n",
              "  </tbody>\n",
              "</table>\n",
              "</div>\n",
              "      <button class=\"colab-df-convert\" onclick=\"convertToInteractive('df-0f6a9606-2244-4f15-b5be-d7d49cfba203')\"\n",
              "              title=\"Convert this dataframe to an interactive table.\"\n",
              "              style=\"display:none;\">\n",
              "        \n",
              "  <svg xmlns=\"http://www.w3.org/2000/svg\" height=\"24px\"viewBox=\"0 0 24 24\"\n",
              "       width=\"24px\">\n",
              "    <path d=\"M0 0h24v24H0V0z\" fill=\"none\"/>\n",
              "    <path d=\"M18.56 5.44l.94 2.06.94-2.06 2.06-.94-2.06-.94-.94-2.06-.94 2.06-2.06.94zm-11 1L8.5 8.5l.94-2.06 2.06-.94-2.06-.94L8.5 2.5l-.94 2.06-2.06.94zm10 10l.94 2.06.94-2.06 2.06-.94-2.06-.94-.94-2.06-.94 2.06-2.06.94z\"/><path d=\"M17.41 7.96l-1.37-1.37c-.4-.4-.92-.59-1.43-.59-.52 0-1.04.2-1.43.59L10.3 9.45l-7.72 7.72c-.78.78-.78 2.05 0 2.83L4 21.41c.39.39.9.59 1.41.59.51 0 1.02-.2 1.41-.59l7.78-7.78 2.81-2.81c.8-.78.8-2.07 0-2.86zM5.41 20L4 18.59l7.72-7.72 1.47 1.35L5.41 20z\"/>\n",
              "  </svg>\n",
              "      </button>\n",
              "      \n",
              "  <style>\n",
              "    .colab-df-container {\n",
              "      display:flex;\n",
              "      flex-wrap:wrap;\n",
              "      gap: 12px;\n",
              "    }\n",
              "\n",
              "    .colab-df-convert {\n",
              "      background-color: #E8F0FE;\n",
              "      border: none;\n",
              "      border-radius: 50%;\n",
              "      cursor: pointer;\n",
              "      display: none;\n",
              "      fill: #1967D2;\n",
              "      height: 32px;\n",
              "      padding: 0 0 0 0;\n",
              "      width: 32px;\n",
              "    }\n",
              "\n",
              "    .colab-df-convert:hover {\n",
              "      background-color: #E2EBFA;\n",
              "      box-shadow: 0px 1px 2px rgba(60, 64, 67, 0.3), 0px 1px 3px 1px rgba(60, 64, 67, 0.15);\n",
              "      fill: #174EA6;\n",
              "    }\n",
              "\n",
              "    [theme=dark] .colab-df-convert {\n",
              "      background-color: #3B4455;\n",
              "      fill: #D2E3FC;\n",
              "    }\n",
              "\n",
              "    [theme=dark] .colab-df-convert:hover {\n",
              "      background-color: #434B5C;\n",
              "      box-shadow: 0px 1px 3px 1px rgba(0, 0, 0, 0.15);\n",
              "      filter: drop-shadow(0px 1px 2px rgba(0, 0, 0, 0.3));\n",
              "      fill: #FFFFFF;\n",
              "    }\n",
              "  </style>\n",
              "\n",
              "      <script>\n",
              "        const buttonEl =\n",
              "          document.querySelector('#df-0f6a9606-2244-4f15-b5be-d7d49cfba203 button.colab-df-convert');\n",
              "        buttonEl.style.display =\n",
              "          google.colab.kernel.accessAllowed ? 'block' : 'none';\n",
              "\n",
              "        async function convertToInteractive(key) {\n",
              "          const element = document.querySelector('#df-0f6a9606-2244-4f15-b5be-d7d49cfba203');\n",
              "          const dataTable =\n",
              "            await google.colab.kernel.invokeFunction('convertToInteractive',\n",
              "                                                     [key], {});\n",
              "          if (!dataTable) return;\n",
              "\n",
              "          const docLinkHtml = 'Like what you see? Visit the ' +\n",
              "            '<a target=\"_blank\" href=https://colab.research.google.com/notebooks/data_table.ipynb>data table notebook</a>'\n",
              "            + ' to learn more about interactive tables.';\n",
              "          element.innerHTML = '';\n",
              "          dataTable['output_type'] = 'display_data';\n",
              "          await google.colab.output.renderOutput(dataTable, element);\n",
              "          const docLink = document.createElement('div');\n",
              "          docLink.innerHTML = docLinkHtml;\n",
              "          element.appendChild(docLink);\n",
              "        }\n",
              "      </script>\n",
              "    </div>\n",
              "  </div>\n",
              "  "
            ]
          },
          "metadata": {},
          "execution_count": 11
        }
      ],
      "source": [
        "#Print the top five samples of unacc\n",
        "##TO DO\n",
        "specie2 = df[\"target\"] == 2\n",
        "df[specie2].head()"
      ]
    },
    {
      "cell_type": "code",
      "execution_count": null,
      "metadata": {
        "execution": {
          "iopub.execute_input": "2020-12-06T07:07:25.189798Z",
          "iopub.status.busy": "2020-12-06T07:07:25.188798Z",
          "iopub.status.idle": "2020-12-06T07:07:25.193983Z",
          "shell.execute_reply": "2020-12-06T07:07:25.193291Z"
        },
        "papermill": {
          "duration": 0.05694,
          "end_time": "2020-12-06T07:07:25.194097",
          "exception": false,
          "start_time": "2020-12-06T07:07:25.137157",
          "status": "completed"
        },
        "tags": [],
        "id": "YpTOMb8gCGt4",
        "colab": {
          "base_uri": "https://localhost:8080/",
          "height": 206
        },
        "outputId": "e656afce-7a82-4baa-c57c-b1d5d4d438d6"
      },
      "outputs": [
        {
          "output_type": "execute_result",
          "data": {
            "text/plain": [
              "      buying_price  maint_price  no_doors  capacity  luggageboot  safety  \\\n",
              "1097             2            2         0         1            0       0   \n",
              "1106             2            2         0         2            0       0   \n",
              "1124             2            2         1         1            0       0   \n",
              "1130             2            2         1         2            1       0   \n",
              "1133             2            2         1         2            0       0   \n",
              "\n",
              "     target_names  target  \n",
              "1097        vgood       3  \n",
              "1106        vgood       3  \n",
              "1124        vgood       3  \n",
              "1130        vgood       3  \n",
              "1133        vgood       3  "
            ],
            "text/html": [
              "\n",
              "  <div id=\"df-c75698c9-55f8-41d2-bdaa-91669892d64e\">\n",
              "    <div class=\"colab-df-container\">\n",
              "      <div>\n",
              "<style scoped>\n",
              "    .dataframe tbody tr th:only-of-type {\n",
              "        vertical-align: middle;\n",
              "    }\n",
              "\n",
              "    .dataframe tbody tr th {\n",
              "        vertical-align: top;\n",
              "    }\n",
              "\n",
              "    .dataframe thead th {\n",
              "        text-align: right;\n",
              "    }\n",
              "</style>\n",
              "<table border=\"1\" class=\"dataframe\">\n",
              "  <thead>\n",
              "    <tr style=\"text-align: right;\">\n",
              "      <th></th>\n",
              "      <th>buying_price</th>\n",
              "      <th>maint_price</th>\n",
              "      <th>no_doors</th>\n",
              "      <th>capacity</th>\n",
              "      <th>luggageboot</th>\n",
              "      <th>safety</th>\n",
              "      <th>target_names</th>\n",
              "      <th>target</th>\n",
              "    </tr>\n",
              "  </thead>\n",
              "  <tbody>\n",
              "    <tr>\n",
              "      <th>1097</th>\n",
              "      <td>2</td>\n",
              "      <td>2</td>\n",
              "      <td>0</td>\n",
              "      <td>1</td>\n",
              "      <td>0</td>\n",
              "      <td>0</td>\n",
              "      <td>vgood</td>\n",
              "      <td>3</td>\n",
              "    </tr>\n",
              "    <tr>\n",
              "      <th>1106</th>\n",
              "      <td>2</td>\n",
              "      <td>2</td>\n",
              "      <td>0</td>\n",
              "      <td>2</td>\n",
              "      <td>0</td>\n",
              "      <td>0</td>\n",
              "      <td>vgood</td>\n",
              "      <td>3</td>\n",
              "    </tr>\n",
              "    <tr>\n",
              "      <th>1124</th>\n",
              "      <td>2</td>\n",
              "      <td>2</td>\n",
              "      <td>1</td>\n",
              "      <td>1</td>\n",
              "      <td>0</td>\n",
              "      <td>0</td>\n",
              "      <td>vgood</td>\n",
              "      <td>3</td>\n",
              "    </tr>\n",
              "    <tr>\n",
              "      <th>1130</th>\n",
              "      <td>2</td>\n",
              "      <td>2</td>\n",
              "      <td>1</td>\n",
              "      <td>2</td>\n",
              "      <td>1</td>\n",
              "      <td>0</td>\n",
              "      <td>vgood</td>\n",
              "      <td>3</td>\n",
              "    </tr>\n",
              "    <tr>\n",
              "      <th>1133</th>\n",
              "      <td>2</td>\n",
              "      <td>2</td>\n",
              "      <td>1</td>\n",
              "      <td>2</td>\n",
              "      <td>0</td>\n",
              "      <td>0</td>\n",
              "      <td>vgood</td>\n",
              "      <td>3</td>\n",
              "    </tr>\n",
              "  </tbody>\n",
              "</table>\n",
              "</div>\n",
              "      <button class=\"colab-df-convert\" onclick=\"convertToInteractive('df-c75698c9-55f8-41d2-bdaa-91669892d64e')\"\n",
              "              title=\"Convert this dataframe to an interactive table.\"\n",
              "              style=\"display:none;\">\n",
              "        \n",
              "  <svg xmlns=\"http://www.w3.org/2000/svg\" height=\"24px\"viewBox=\"0 0 24 24\"\n",
              "       width=\"24px\">\n",
              "    <path d=\"M0 0h24v24H0V0z\" fill=\"none\"/>\n",
              "    <path d=\"M18.56 5.44l.94 2.06.94-2.06 2.06-.94-2.06-.94-.94-2.06-.94 2.06-2.06.94zm-11 1L8.5 8.5l.94-2.06 2.06-.94-2.06-.94L8.5 2.5l-.94 2.06-2.06.94zm10 10l.94 2.06.94-2.06 2.06-.94-2.06-.94-.94-2.06-.94 2.06-2.06.94z\"/><path d=\"M17.41 7.96l-1.37-1.37c-.4-.4-.92-.59-1.43-.59-.52 0-1.04.2-1.43.59L10.3 9.45l-7.72 7.72c-.78.78-.78 2.05 0 2.83L4 21.41c.39.39.9.59 1.41.59.51 0 1.02-.2 1.41-.59l7.78-7.78 2.81-2.81c.8-.78.8-2.07 0-2.86zM5.41 20L4 18.59l7.72-7.72 1.47 1.35L5.41 20z\"/>\n",
              "  </svg>\n",
              "      </button>\n",
              "      \n",
              "  <style>\n",
              "    .colab-df-container {\n",
              "      display:flex;\n",
              "      flex-wrap:wrap;\n",
              "      gap: 12px;\n",
              "    }\n",
              "\n",
              "    .colab-df-convert {\n",
              "      background-color: #E8F0FE;\n",
              "      border: none;\n",
              "      border-radius: 50%;\n",
              "      cursor: pointer;\n",
              "      display: none;\n",
              "      fill: #1967D2;\n",
              "      height: 32px;\n",
              "      padding: 0 0 0 0;\n",
              "      width: 32px;\n",
              "    }\n",
              "\n",
              "    .colab-df-convert:hover {\n",
              "      background-color: #E2EBFA;\n",
              "      box-shadow: 0px 1px 2px rgba(60, 64, 67, 0.3), 0px 1px 3px 1px rgba(60, 64, 67, 0.15);\n",
              "      fill: #174EA6;\n",
              "    }\n",
              "\n",
              "    [theme=dark] .colab-df-convert {\n",
              "      background-color: #3B4455;\n",
              "      fill: #D2E3FC;\n",
              "    }\n",
              "\n",
              "    [theme=dark] .colab-df-convert:hover {\n",
              "      background-color: #434B5C;\n",
              "      box-shadow: 0px 1px 3px 1px rgba(0, 0, 0, 0.15);\n",
              "      filter: drop-shadow(0px 1px 2px rgba(0, 0, 0, 0.3));\n",
              "      fill: #FFFFFF;\n",
              "    }\n",
              "  </style>\n",
              "\n",
              "      <script>\n",
              "        const buttonEl =\n",
              "          document.querySelector('#df-c75698c9-55f8-41d2-bdaa-91669892d64e button.colab-df-convert');\n",
              "        buttonEl.style.display =\n",
              "          google.colab.kernel.accessAllowed ? 'block' : 'none';\n",
              "\n",
              "        async function convertToInteractive(key) {\n",
              "          const element = document.querySelector('#df-c75698c9-55f8-41d2-bdaa-91669892d64e');\n",
              "          const dataTable =\n",
              "            await google.colab.kernel.invokeFunction('convertToInteractive',\n",
              "                                                     [key], {});\n",
              "          if (!dataTable) return;\n",
              "\n",
              "          const docLinkHtml = 'Like what you see? Visit the ' +\n",
              "            '<a target=\"_blank\" href=https://colab.research.google.com/notebooks/data_table.ipynb>data table notebook</a>'\n",
              "            + ' to learn more about interactive tables.';\n",
              "          element.innerHTML = '';\n",
              "          dataTable['output_type'] = 'display_data';\n",
              "          await google.colab.output.renderOutput(dataTable, element);\n",
              "          const docLink = document.createElement('div');\n",
              "          docLink.innerHTML = docLinkHtml;\n",
              "          element.appendChild(docLink);\n",
              "        }\n",
              "      </script>\n",
              "    </div>\n",
              "  </div>\n",
              "  "
            ]
          },
          "metadata": {},
          "execution_count": 12
        }
      ],
      "source": [
        "#Print the top five samples of vgood class\n",
        "##TO DO\n",
        "specie3 = df[\"target\"] == 3\n",
        "df[specie3].head()"
      ]
    },
    {
      "cell_type": "markdown",
      "source": [
        "**target -> target_name** \n",
        "- 0->acc\n",
        "- 1->good\n",
        "- 2->unacc\n",
        "- 3->vgood"
      ],
      "metadata": {
        "id": "90RkPsJjJWXx"
      }
    },
    {
      "cell_type": "code",
      "source": [
        "print(df.value_counts(\"target\"))"
      ],
      "metadata": {
        "colab": {
          "base_uri": "https://localhost:8080/"
        },
        "id": "eO8swiseJa4R",
        "outputId": "e42c8a6b-8ba0-4a4f-94b5-8e43d358fe58"
      },
      "execution_count": null,
      "outputs": [
        {
          "output_type": "stream",
          "name": "stdout",
          "text": [
            "target\n",
            "2    1210\n",
            "0     384\n",
            "1      69\n",
            "3      65\n",
            "dtype: int64\n"
          ]
        }
      ]
    },
    {
      "cell_type": "code",
      "source": [
        "X = df[featureNames]\n",
        "y = df[['target']]"
      ],
      "metadata": {
        "id": "cgzhUdyVC-Im"
      },
      "execution_count": null,
      "outputs": []
    },
    {
      "cell_type": "markdown",
      "source": [
        "## Training and Testing data"
      ],
      "metadata": {
        "id": "YgAPEGwl9Blb"
      }
    },
    {
      "cell_type": "code",
      "source": [
        "X_train,X_test, y_train, y_test = model_selection.train_test_split(X, y, test_size=0.2, random_state=70)"
      ],
      "metadata": {
        "id": "otXGRn5uHYyL"
      },
      "execution_count": null,
      "outputs": []
    },
    {
      "cell_type": "code",
      "source": [
        "cls = tree.DecisionTreeClassifier(criterion='entropy')\n",
        "#Fit the model using the fit method. \n",
        "cls.fit(X=X_train,y=y_train)"
      ],
      "metadata": {
        "colab": {
          "base_uri": "https://localhost:8080/"
        },
        "id": "FPfNibWVO3-v",
        "outputId": "648c9870-6f00-4ece-e1dd-4aa7fd41fb95"
      },
      "execution_count": null,
      "outputs": [
        {
          "output_type": "execute_result",
          "data": {
            "text/plain": [
              "DecisionTreeClassifier(criterion='entropy')"
            ]
          },
          "metadata": {},
          "execution_count": 16
        }
      ]
    },
    {
      "cell_type": "code",
      "source": [
        "plt.figure(figsize=(12,8))\n",
        "tree.plot_tree(cls) "
      ],
      "metadata": {
        "colab": {
          "base_uri": "https://localhost:8080/",
          "height": 1000
        },
        "id": "J9WyxLljPAbq",
        "outputId": "6197f9d0-89e6-43fc-865b-a0cc3197dde6"
      },
      "execution_count": null,
      "outputs": [
        {
          "output_type": "execute_result",
          "data": {
            "text/plain": [
              "[Text(0.5163690476190477, 0.9666666666666667, 'X[3] <= 0.5\\nentropy = 1.232\\nsamples = 1382\\nvalue = [312, 61, 956, 53]'),\n",
              " Text(0.5004960317460317, 0.9, 'entropy = 0.0\\nsamples = 465\\nvalue = [0, 0, 465, 0]'),\n",
              " Text(0.5322420634920635, 0.9, 'X[5] <= 0.5\\nentropy = 1.51\\nsamples = 917\\nvalue = [312, 61, 491, 53]'),\n",
              " Text(0.2569444444444444, 0.8333333333333334, 'X[0] <= 2.5\\nentropy = 1.684\\nsamples = 314\\nvalue = [171, 28, 62, 53]'),\n",
              " Text(0.13293650793650794, 0.7666666666666667, 'X[0] <= 0.5\\nentropy = 1.645\\nsamples = 236\\nvalue = [132, 28, 23, 53]'),\n",
              " Text(0.07142857142857142, 0.7, 'X[1] <= 2.5\\nentropy = 0.781\\nsamples = 69\\nvalue = [53, 0, 16, 0]'),\n",
              " Text(0.05555555555555555, 0.6333333333333333, 'entropy = 0.0\\nsamples = 53\\nvalue = [53, 0, 0, 0]'),\n",
              " Text(0.0873015873015873, 0.6333333333333333, 'entropy = 0.0\\nsamples = 16\\nvalue = [0, 0, 16, 0]'),\n",
              " Text(0.19444444444444445, 0.7, 'X[4] <= 1.5\\nentropy = 1.66\\nsamples = 167\\nvalue = [79, 28, 7, 53]'),\n",
              " Text(0.11904761904761904, 0.6333333333333333, 'X[1] <= 2.5\\nentropy = 1.281\\nsamples = 107\\nvalue = [47, 7, 0, 53]'),\n",
              " Text(0.10317460317460317, 0.5666666666666667, 'X[1] <= 0.5\\nentropy = 1.179\\nsamples = 78\\nvalue = [18, 7, 0, 53]'),\n",
              " Text(0.06349206349206349, 0.5, 'X[0] <= 1.5\\nentropy = 0.967\\nsamples = 28\\nvalue = [17, 0, 0, 11]'),\n",
              " Text(0.047619047619047616, 0.43333333333333335, 'X[2] <= 1.5\\nentropy = 0.75\\nsamples = 14\\nvalue = [3, 0, 0, 11]'),\n",
              " Text(0.031746031746031744, 0.36666666666666664, 'X[4] <= 0.5\\nentropy = 0.985\\nsamples = 7\\nvalue = [3, 0, 0, 4]'),\n",
              " Text(0.015873015873015872, 0.3, 'entropy = 0.0\\nsamples = 3\\nvalue = [0, 0, 0, 3]'),\n",
              " Text(0.047619047619047616, 0.3, 'X[3] <= 1.5\\nentropy = 0.811\\nsamples = 4\\nvalue = [3, 0, 0, 1]'),\n",
              " Text(0.031746031746031744, 0.23333333333333334, 'entropy = 0.0\\nsamples = 2\\nvalue = [2, 0, 0, 0]'),\n",
              " Text(0.06349206349206349, 0.23333333333333334, 'X[2] <= 0.5\\nentropy = 1.0\\nsamples = 2\\nvalue = [1, 0, 0, 1]'),\n",
              " Text(0.047619047619047616, 0.16666666666666666, 'entropy = 0.0\\nsamples = 1\\nvalue = [1, 0, 0, 0]'),\n",
              " Text(0.07936507936507936, 0.16666666666666666, 'entropy = 0.0\\nsamples = 1\\nvalue = [0, 0, 0, 1]'),\n",
              " Text(0.06349206349206349, 0.36666666666666664, 'entropy = 0.0\\nsamples = 7\\nvalue = [0, 0, 0, 7]'),\n",
              " Text(0.07936507936507936, 0.43333333333333335, 'entropy = 0.0\\nsamples = 14\\nvalue = [14, 0, 0, 0]'),\n",
              " Text(0.14285714285714285, 0.5, 'X[4] <= 0.5\\nentropy = 0.721\\nsamples = 50\\nvalue = [1, 7, 0, 42]'),\n",
              " Text(0.12698412698412698, 0.43333333333333335, 'entropy = 0.0\\nsamples = 29\\nvalue = [0, 0, 0, 29]'),\n",
              " Text(0.15873015873015872, 0.43333333333333335, 'X[2] <= 1.5\\nentropy = 1.166\\nsamples = 21\\nvalue = [1, 7, 0, 13]'),\n",
              " Text(0.14285714285714285, 0.36666666666666664, 'X[2] <= 0.5\\nentropy = 1.241\\nsamples = 11\\nvalue = [1, 7, 0, 3]'),\n",
              " Text(0.1111111111111111, 0.3, 'X[1] <= 1.5\\nentropy = 0.722\\nsamples = 5\\nvalue = [1, 4, 0, 0]'),\n",
              " Text(0.09523809523809523, 0.23333333333333334, 'entropy = 0.0\\nsamples = 3\\nvalue = [0, 3, 0, 0]'),\n",
              " Text(0.12698412698412698, 0.23333333333333334, 'X[0] <= 1.5\\nentropy = 1.0\\nsamples = 2\\nvalue = [1, 1, 0, 0]'),\n",
              " Text(0.1111111111111111, 0.16666666666666666, 'entropy = 0.0\\nsamples = 1\\nvalue = [0, 1, 0, 0]'),\n",
              " Text(0.14285714285714285, 0.16666666666666666, 'entropy = 0.0\\nsamples = 1\\nvalue = [1, 0, 0, 0]'),\n",
              " Text(0.1746031746031746, 0.3, 'X[3] <= 1.5\\nentropy = 1.0\\nsamples = 6\\nvalue = [0, 3, 0, 3]'),\n",
              " Text(0.15873015873015872, 0.23333333333333334, 'entropy = 0.0\\nsamples = 3\\nvalue = [0, 3, 0, 0]'),\n",
              " Text(0.19047619047619047, 0.23333333333333334, 'entropy = 0.0\\nsamples = 3\\nvalue = [0, 0, 0, 3]'),\n",
              " Text(0.1746031746031746, 0.36666666666666664, 'entropy = 0.0\\nsamples = 10\\nvalue = [0, 0, 0, 10]'),\n",
              " Text(0.1349206349206349, 0.5666666666666667, 'entropy = 0.0\\nsamples = 29\\nvalue = [29, 0, 0, 0]'),\n",
              " Text(0.2698412698412698, 0.6333333333333333, 'X[2] <= 0.5\\nentropy = 1.375\\nsamples = 60\\nvalue = [32, 21, 7, 0]'),\n",
              " Text(0.23809523809523808, 0.5666666666666667, 'X[3] <= 1.5\\nentropy = 1.506\\nsamples = 15\\nvalue = [5, 3, 7, 0]'),\n",
              " Text(0.2222222222222222, 0.5, 'X[1] <= 0.5\\nentropy = 0.954\\nsamples = 8\\nvalue = [5, 3, 0, 0]'),\n",
              " Text(0.20634920634920634, 0.43333333333333335, 'entropy = 0.0\\nsamples = 2\\nvalue = [2, 0, 0, 0]'),\n",
              " Text(0.23809523809523808, 0.43333333333333335, 'X[1] <= 1.5\\nentropy = 1.0\\nsamples = 6\\nvalue = [3, 3, 0, 0]'),\n",
              " Text(0.2222222222222222, 0.36666666666666664, 'entropy = 0.0\\nsamples = 2\\nvalue = [0, 2, 0, 0]'),\n",
              " Text(0.25396825396825395, 0.36666666666666664, 'X[1] <= 2.5\\nentropy = 0.811\\nsamples = 4\\nvalue = [3, 1, 0, 0]'),\n",
              " Text(0.23809523809523808, 0.3, 'X[0] <= 1.5\\nentropy = 1.0\\nsamples = 2\\nvalue = [1, 1, 0, 0]'),\n",
              " Text(0.2222222222222222, 0.23333333333333334, 'entropy = 0.0\\nsamples = 1\\nvalue = [0, 1, 0, 0]'),\n",
              " Text(0.25396825396825395, 0.23333333333333334, 'entropy = 0.0\\nsamples = 1\\nvalue = [1, 0, 0, 0]'),\n",
              " Text(0.2698412698412698, 0.3, 'entropy = 0.0\\nsamples = 2\\nvalue = [2, 0, 0, 0]'),\n",
              " Text(0.25396825396825395, 0.5, 'entropy = 0.0\\nsamples = 7\\nvalue = [0, 0, 7, 0]'),\n",
              " Text(0.30158730158730157, 0.5666666666666667, 'X[1] <= 0.5\\nentropy = 0.971\\nsamples = 45\\nvalue = [27, 18, 0, 0]'),\n",
              " Text(0.2857142857142857, 0.5, 'entropy = 0.0\\nsamples = 11\\nvalue = [11, 0, 0, 0]'),\n",
              " Text(0.31746031746031744, 0.5, 'X[1] <= 2.5\\nentropy = 0.998\\nsamples = 34\\nvalue = [16, 18, 0, 0]'),\n",
              " Text(0.30158730158730157, 0.43333333333333335, 'X[1] <= 1.5\\nentropy = 0.755\\nsamples = 23\\nvalue = [5, 18, 0, 0]'),\n",
              " Text(0.2857142857142857, 0.36666666666666664, 'entropy = 0.0\\nsamples = 12\\nvalue = [0, 12, 0, 0]'),\n",
              " Text(0.31746031746031744, 0.36666666666666664, 'X[0] <= 1.5\\nentropy = 0.994\\nsamples = 11\\nvalue = [5, 6, 0, 0]'),\n",
              " Text(0.30158730158730157, 0.3, 'entropy = 0.0\\nsamples = 6\\nvalue = [0, 6, 0, 0]'),\n",
              " Text(0.3333333333333333, 0.3, 'entropy = 0.0\\nsamples = 5\\nvalue = [5, 0, 0, 0]'),\n",
              " Text(0.3333333333333333, 0.43333333333333335, 'entropy = 0.0\\nsamples = 11\\nvalue = [11, 0, 0, 0]'),\n",
              " Text(0.38095238095238093, 0.7666666666666667, 'X[1] <= 0.5\\nentropy = 1.0\\nsamples = 78\\nvalue = [39, 0, 39, 0]'),\n",
              " Text(0.36507936507936506, 0.7, 'entropy = 0.0\\nsamples = 19\\nvalue = [0, 0, 19, 0]'),\n",
              " Text(0.3968253968253968, 0.7, 'X[1] <= 2.5\\nentropy = 0.924\\nsamples = 59\\nvalue = [39, 0, 20, 0]'),\n",
              " Text(0.38095238095238093, 0.6333333333333333, 'X[2] <= 0.5\\nentropy = 0.281\\nsamples = 41\\nvalue = [39, 0, 2, 0]'),\n",
              " Text(0.36507936507936506, 0.5666666666666667, 'X[4] <= 1.5\\nentropy = 0.684\\nsamples = 11\\nvalue = [9, 0, 2, 0]'),\n",
              " Text(0.3492063492063492, 0.5, 'entropy = 0.0\\nsamples = 7\\nvalue = [7, 0, 0, 0]'),\n",
              " Text(0.38095238095238093, 0.5, 'X[3] <= 1.5\\nentropy = 1.0\\nsamples = 4\\nvalue = [2, 0, 2, 0]'),\n",
              " Text(0.36507936507936506, 0.43333333333333335, 'entropy = 0.0\\nsamples = 2\\nvalue = [2, 0, 0, 0]'),\n",
              " Text(0.3968253968253968, 0.43333333333333335, 'entropy = 0.0\\nsamples = 2\\nvalue = [0, 0, 2, 0]'),\n",
              " Text(0.3968253968253968, 0.5666666666666667, 'entropy = 0.0\\nsamples = 30\\nvalue = [30, 0, 0, 0]'),\n",
              " Text(0.4126984126984127, 0.6333333333333333, 'entropy = 0.0\\nsamples = 18\\nvalue = [0, 0, 18, 0]'),\n",
              " Text(0.8075396825396826, 0.8333333333333334, 'X[5] <= 1.5\\nentropy = 1.069\\nsamples = 603\\nvalue = [141, 33, 429, 0]'),\n",
              " Text(0.7916666666666666, 0.7666666666666667, 'entropy = 0.0\\nsamples = 302\\nvalue = [0, 0, 302, 0]'),\n",
              " Text(0.8234126984126984, 0.7666666666666667, 'X[4] <= 1.5\\nentropy = 1.387\\nsamples = 301\\nvalue = [141, 33, 127, 0]'),\n",
              " Text(0.6944444444444444, 0.7, 'X[0] <= 2.5\\nentropy = 1.419\\nsamples = 195\\nvalue = [108, 33, 54, 0]'),\n",
              " Text(0.5634920634920635, 0.6333333333333333, 'X[0] <= 0.5\\nentropy = 1.353\\nsamples = 145\\nvalue = [88, 33, 24, 0]'),\n",
              " Text(0.4603174603174603, 0.5666666666666667, 'X[1] <= 2.5\\nentropy = 0.963\\nsamples = 49\\nvalue = [30, 0, 19, 0]'),\n",
              " Text(0.4444444444444444, 0.5, 'X[4] <= 0.5\\nentropy = 0.65\\nsamples = 36\\nvalue = [30, 0, 6, 0]'),\n",
              " Text(0.42857142857142855, 0.43333333333333335, 'entropy = 0.0\\nsamples = 20\\nvalue = [20, 0, 0, 0]'),\n",
              " Text(0.4603174603174603, 0.43333333333333335, 'X[2] <= 1.5\\nentropy = 0.954\\nsamples = 16\\nvalue = [10, 0, 6, 0]'),\n",
              " Text(0.4444444444444444, 0.36666666666666664, 'X[3] <= 1.5\\nentropy = 0.592\\nsamples = 7\\nvalue = [1, 0, 6, 0]'),\n",
              " Text(0.42857142857142855, 0.3, 'entropy = 0.0\\nsamples = 4\\nvalue = [0, 0, 4, 0]'),\n",
              " Text(0.4603174603174603, 0.3, 'X[2] <= 0.5\\nentropy = 0.918\\nsamples = 3\\nvalue = [1, 0, 2, 0]'),\n",
              " Text(0.4444444444444444, 0.23333333333333334, 'entropy = 0.0\\nsamples = 2\\nvalue = [0, 0, 2, 0]'),\n",
              " Text(0.47619047619047616, 0.23333333333333334, 'entropy = 0.0\\nsamples = 1\\nvalue = [1, 0, 0, 0]'),\n",
              " Text(0.47619047619047616, 0.36666666666666664, 'entropy = 0.0\\nsamples = 9\\nvalue = [9, 0, 0, 0]'),\n",
              " Text(0.47619047619047616, 0.5, 'entropy = 0.0\\nsamples = 13\\nvalue = [0, 0, 13, 0]'),\n",
              " Text(0.6666666666666666, 0.5666666666666667, 'X[1] <= 2.5\\nentropy = 1.191\\nsamples = 96\\nvalue = [58, 33, 5, 0]'),\n",
              " Text(0.6031746031746031, 0.5, 'X[1] <= 0.5\\nentropy = 1.156\\nsamples = 71\\nvalue = [36, 33, 2, 0]'),\n",
              " Text(0.5555555555555556, 0.43333333333333335, 'X[2] <= 1.5\\nentropy = 0.426\\nsamples = 23\\nvalue = [21, 0, 2, 0]'),\n",
              " Text(0.5396825396825397, 0.36666666666666664, 'X[3] <= 1.5\\nentropy = 0.722\\nsamples = 10\\nvalue = [8, 0, 2, 0]'),\n",
              " Text(0.5238095238095238, 0.3, 'X[0] <= 1.5\\nentropy = 1.0\\nsamples = 4\\nvalue = [2, 0, 2, 0]'),\n",
              " Text(0.5079365079365079, 0.23333333333333334, 'entropy = 0.0\\nsamples = 2\\nvalue = [2, 0, 0, 0]'),\n",
              " Text(0.5396825396825397, 0.23333333333333334, 'entropy = 0.0\\nsamples = 2\\nvalue = [0, 0, 2, 0]'),\n",
              " Text(0.5555555555555556, 0.3, 'entropy = 0.0\\nsamples = 6\\nvalue = [6, 0, 0, 0]'),\n",
              " Text(0.5714285714285714, 0.36666666666666664, 'entropy = 0.0\\nsamples = 13\\nvalue = [13, 0, 0, 0]'),\n",
              " Text(0.6507936507936508, 0.43333333333333335, 'X[0] <= 1.5\\nentropy = 0.896\\nsamples = 48\\nvalue = [15, 33, 0, 0]'),\n",
              " Text(0.6031746031746031, 0.36666666666666664, 'X[2] <= 1.5\\nentropy = 0.426\\nsamples = 23\\nvalue = [2, 21, 0, 0]'),\n",
              " Text(0.5873015873015873, 0.3, 'X[4] <= 0.5\\nentropy = 0.722\\nsamples = 10\\nvalue = [2, 8, 0, 0]'),\n",
              " Text(0.5714285714285714, 0.23333333333333334, 'entropy = 0.0\\nsamples = 6\\nvalue = [0, 6, 0, 0]'),\n",
              " Text(0.6031746031746031, 0.23333333333333334, 'X[3] <= 1.5\\nentropy = 1.0\\nsamples = 4\\nvalue = [2, 2, 0, 0]'),\n",
              " Text(0.5873015873015873, 0.16666666666666666, 'entropy = 0.0\\nsamples = 2\\nvalue = [2, 0, 0, 0]'),\n",
              " Text(0.6190476190476191, 0.16666666666666666, 'entropy = 0.0\\nsamples = 2\\nvalue = [0, 2, 0, 0]'),\n",
              " Text(0.6190476190476191, 0.3, 'entropy = 0.0\\nsamples = 13\\nvalue = [0, 13, 0, 0]'),\n",
              " Text(0.6984126984126984, 0.36666666666666664, 'X[1] <= 1.5\\nentropy = 0.999\\nsamples = 25\\nvalue = [13, 12, 0, 0]'),\n",
              " Text(0.6825396825396826, 0.3, 'X[2] <= 1.5\\nentropy = 0.722\\nsamples = 15\\nvalue = [3, 12, 0, 0]'),\n",
              " Text(0.6666666666666666, 0.23333333333333334, 'X[4] <= 0.5\\nentropy = 0.954\\nsamples = 8\\nvalue = [3, 5, 0, 0]'),\n",
              " Text(0.6507936507936508, 0.16666666666666666, 'entropy = 0.0\\nsamples = 4\\nvalue = [0, 4, 0, 0]'),\n",
              " Text(0.6825396825396826, 0.16666666666666666, 'X[3] <= 1.5\\nentropy = 0.811\\nsamples = 4\\nvalue = [3, 1, 0, 0]'),\n",
              " Text(0.6666666666666666, 0.1, 'entropy = 0.0\\nsamples = 2\\nvalue = [2, 0, 0, 0]'),\n",
              " Text(0.6984126984126984, 0.1, 'X[2] <= 0.5\\nentropy = 1.0\\nsamples = 2\\nvalue = [1, 1, 0, 0]'),\n",
              " Text(0.6825396825396826, 0.03333333333333333, 'entropy = 0.0\\nsamples = 1\\nvalue = [1, 0, 0, 0]'),\n",
              " Text(0.7142857142857143, 0.03333333333333333, 'entropy = 0.0\\nsamples = 1\\nvalue = [0, 1, 0, 0]'),\n",
              " Text(0.6984126984126984, 0.23333333333333334, 'entropy = 0.0\\nsamples = 7\\nvalue = [0, 7, 0, 0]'),\n",
              " Text(0.7142857142857143, 0.3, 'entropy = 0.0\\nsamples = 10\\nvalue = [10, 0, 0, 0]'),\n",
              " Text(0.7301587301587301, 0.5, 'X[4] <= 0.5\\nentropy = 0.529\\nsamples = 25\\nvalue = [22, 0, 3, 0]'),\n",
              " Text(0.7142857142857143, 0.43333333333333335, 'entropy = 0.0\\nsamples = 14\\nvalue = [14, 0, 0, 0]'),\n",
              " Text(0.746031746031746, 0.43333333333333335, 'X[2] <= 0.5\\nentropy = 0.845\\nsamples = 11\\nvalue = [8, 0, 3, 0]'),\n",
              " Text(0.7301587301587301, 0.36666666666666664, 'entropy = 0.0\\nsamples = 2\\nvalue = [0, 0, 2, 0]'),\n",
              " Text(0.7619047619047619, 0.36666666666666664, 'X[2] <= 1.5\\nentropy = 0.503\\nsamples = 9\\nvalue = [8, 0, 1, 0]'),\n",
              " Text(0.746031746031746, 0.3, 'X[3] <= 1.5\\nentropy = 0.918\\nsamples = 3\\nvalue = [2, 0, 1, 0]'),\n",
              " Text(0.7301587301587301, 0.23333333333333334, 'entropy = 0.0\\nsamples = 1\\nvalue = [0, 0, 1, 0]'),\n",
              " Text(0.7619047619047619, 0.23333333333333334, 'entropy = 0.0\\nsamples = 2\\nvalue = [2, 0, 0, 0]'),\n",
              " Text(0.7777777777777778, 0.3, 'entropy = 0.0\\nsamples = 6\\nvalue = [6, 0, 0, 0]'),\n",
              " Text(0.8253968253968254, 0.6333333333333333, 'X[1] <= 0.5\\nentropy = 0.971\\nsamples = 50\\nvalue = [20, 0, 30, 0]'),\n",
              " Text(0.8095238095238095, 0.5666666666666667, 'entropy = 0.0\\nsamples = 15\\nvalue = [0, 0, 15, 0]'),\n",
              " Text(0.8412698412698413, 0.5666666666666667, 'X[1] <= 2.5\\nentropy = 0.985\\nsamples = 35\\nvalue = [20, 0, 15, 0]'),\n",
              " Text(0.8253968253968254, 0.5, 'X[2] <= 1.5\\nentropy = 0.559\\nsamples = 23\\nvalue = [20, 0, 3, 0]'),\n",
              " Text(0.8095238095238095, 0.43333333333333335, 'X[4] <= 0.5\\nentropy = 0.881\\nsamples = 10\\nvalue = [7, 0, 3, 0]'),\n",
              " Text(0.7936507936507936, 0.36666666666666664, 'entropy = 0.0\\nsamples = 5\\nvalue = [5, 0, 0, 0]'),\n",
              " Text(0.8253968253968254, 0.36666666666666664, 'X[3] <= 1.5\\nentropy = 0.971\\nsamples = 5\\nvalue = [2, 0, 3, 0]'),\n",
              " Text(0.8095238095238095, 0.3, 'entropy = 0.0\\nsamples = 3\\nvalue = [0, 0, 3, 0]'),\n",
              " Text(0.8412698412698413, 0.3, 'entropy = 0.0\\nsamples = 2\\nvalue = [2, 0, 0, 0]'),\n",
              " Text(0.8412698412698413, 0.43333333333333335, 'entropy = 0.0\\nsamples = 13\\nvalue = [13, 0, 0, 0]'),\n",
              " Text(0.8571428571428571, 0.5, 'entropy = 0.0\\nsamples = 12\\nvalue = [0, 0, 12, 0]'),\n",
              " Text(0.9523809523809523, 0.7, 'X[0] <= 2.5\\nentropy = 0.895\\nsamples = 106\\nvalue = [33, 0, 73, 0]'),\n",
              " Text(0.9365079365079365, 0.6333333333333333, 'X[0] <= 0.5\\nentropy = 0.98\\nsamples = 79\\nvalue = [33, 0, 46, 0]'),\n",
              " Text(0.9206349206349206, 0.5666666666666667, 'entropy = 0.0\\nsamples = 24\\nvalue = [0, 0, 24, 0]'),\n",
              " Text(0.9523809523809523, 0.5666666666666667, 'X[1] <= 2.5\\nentropy = 0.971\\nsamples = 55\\nvalue = [33, 0, 22, 0]'),\n",
              " Text(0.9365079365079365, 0.5, 'X[1] <= 0.5\\nentropy = 0.75\\nsamples = 42\\nvalue = [33, 0, 9, 0]'),\n",
              " Text(0.9047619047619048, 0.43333333333333335, 'X[0] <= 1.5\\nentropy = 0.996\\nsamples = 13\\nvalue = [7, 0, 6, 0]'),\n",
              " Text(0.8888888888888888, 0.36666666666666664, 'X[2] <= 0.5\\nentropy = 0.544\\nsamples = 8\\nvalue = [7, 0, 1, 0]'),\n",
              " Text(0.873015873015873, 0.3, 'X[3] <= 1.5\\nentropy = 1.0\\nsamples = 2\\nvalue = [1, 0, 1, 0]'),\n",
              " Text(0.8571428571428571, 0.23333333333333334, 'entropy = 0.0\\nsamples = 1\\nvalue = [1, 0, 0, 0]'),\n",
              " Text(0.8888888888888888, 0.23333333333333334, 'entropy = 0.0\\nsamples = 1\\nvalue = [0, 0, 1, 0]'),\n",
              " Text(0.9047619047619048, 0.3, 'entropy = 0.0\\nsamples = 6\\nvalue = [6, 0, 0, 0]'),\n",
              " Text(0.9206349206349206, 0.36666666666666664, 'entropy = 0.0\\nsamples = 5\\nvalue = [0, 0, 5, 0]'),\n",
              " Text(0.9682539682539683, 0.43333333333333335, 'X[2] <= 0.5\\nentropy = 0.48\\nsamples = 29\\nvalue = [26, 0, 3, 0]'),\n",
              " Text(0.9523809523809523, 0.36666666666666664, 'X[3] <= 1.5\\nentropy = 0.985\\nsamples = 7\\nvalue = [4, 0, 3, 0]'),\n",
              " Text(0.9365079365079365, 0.3, 'entropy = 0.0\\nsamples = 4\\nvalue = [4, 0, 0, 0]'),\n",
              " Text(0.9682539682539683, 0.3, 'entropy = 0.0\\nsamples = 3\\nvalue = [0, 0, 3, 0]'),\n",
              " Text(0.9841269841269841, 0.36666666666666664, 'entropy = 0.0\\nsamples = 22\\nvalue = [22, 0, 0, 0]'),\n",
              " Text(0.9682539682539683, 0.5, 'entropy = 0.0\\nsamples = 13\\nvalue = [0, 0, 13, 0]'),\n",
              " Text(0.9682539682539683, 0.6333333333333333, 'entropy = 0.0\\nsamples = 27\\nvalue = [0, 0, 27, 0]')]"
            ]
          },
          "metadata": {},
          "execution_count": 17
        },
        {
          "output_type": "display_data",
          "data": {
            "text/plain": [
              "<Figure size 864x576 with 1 Axes>"
            ],
            "image/png": "[encoded data removed]"
          },
          "metadata": {
            "needs_background": "light"
          }
        }
      ]
    },
    {
      "cell_type": "code",
      "source": [
        "dot_data = tree.export_graphviz(cls, out_file=None, \n",
        "                      feature_names=featureNames,  \n",
        "                      class_names=[\"acc\",\"good\",\"unacc\",\"vgood\"],  \n",
        "                      filled=True, rounded=True,  \n",
        "                      special_characters=True)  \n",
        "graph = graphviz.Source(dot_data)  \n",
        "graph.render(\"car_decision_tree_withoutpruning\") "
      ],
      "metadata": {
        "colab": {
          "base_uri": "https://localhost:8080/",
          "height": 35
        },
        "id": "Sl5scJUKPHEZ",
        "outputId": "821f54b0-4e24-4fc2-b63d-64ca2481ebf0"
      },
      "execution_count": null,
      "outputs": [
        {
          "output_type": "execute_result",
          "data": {
            "text/plain": [
              "'car_decision_tree_withoutpruning.pdf'"
            ],
            "application/vnd.google.colaboratory.intrinsic+json": {
              "type": "string"
            }
          },
          "metadata": {},
          "execution_count": 39
        }
      ]
    },
    {
      "cell_type": "markdown",
      "source": [
        "## Accuracy of train and test data"
      ],
      "metadata": {
        "id": "gIL1YtGR9QH1"
      }
    },
    {
      "cell_type": "code",
      "source": [
        "cls.score(X_train,y_train)*100"
      ],
      "metadata": {
        "colab": {
          "base_uri": "https://localhost:8080/"
        },
        "id": "Lsj8vWXcwVa6",
        "outputId": "72c488fc-27c1-489c-e034-6673f5dfae6b"
      },
      "execution_count": null,
      "outputs": [
        {
          "output_type": "execute_result",
          "data": {
            "text/plain": [
              "100.0"
            ]
          },
          "metadata": {},
          "execution_count": 22
        }
      ]
    },
    {
      "cell_type": "code",
      "source": [
        "cls.score(X_test,y_test)*100"
      ],
      "metadata": {
        "colab": {
          "base_uri": "https://localhost:8080/"
        },
        "id": "Mx-7JjPVP0Gd",
        "outputId": "97f75fdb-b536-42e7-d9a1-d5f35207f5a0"
      },
      "execution_count": null,
      "outputs": [
        {
          "output_type": "execute_result",
          "data": {
            "text/plain": [
              "96.82080924855492"
            ]
          },
          "metadata": {},
          "execution_count": 23
        }
      ]
    },
    {
      "cell_type": "markdown",
      "source": [
        "## Depth of the Tree"
      ],
      "metadata": {
        "id": "88Untx1a9XEo"
      }
    },
    {
      "cell_type": "code",
      "source": [
        "cls.tree_.max_depth"
      ],
      "metadata": {
        "colab": {
          "base_uri": "https://localhost:8080/"
        },
        "id": "bAO-siu1vovS",
        "outputId": "e5c5c086-7312-4782-b990-2eadc4a5f4a4"
      },
      "execution_count": null,
      "outputs": [
        {
          "output_type": "execute_result",
          "data": {
            "text/plain": [
              "14"
            ]
          },
          "metadata": {},
          "execution_count": 24
        }
      ]
    },
    {
      "cell_type": "markdown",
      "source": [
        "## Number of nodes of the tree"
      ],
      "metadata": {
        "id": "IMLzqpW_9aF2"
      }
    },
    {
      "cell_type": "code",
      "source": [
        "cls.tree_.node_count"
      ],
      "metadata": {
        "colab": {
          "base_uri": "https://localhost:8080/"
        },
        "id": "63oYKEm-wqt5",
        "outputId": "541b3238-e307-43a8-fabb-89752b8e3c0b"
      },
      "execution_count": null,
      "outputs": [
        {
          "output_type": "execute_result",
          "data": {
            "text/plain": [
              "151"
            ]
          },
          "metadata": {},
          "execution_count": 25
        }
      ]
    },
    {
      "cell_type": "markdown",
      "source": [
        "## Tree Diagram\n",
        "![Without pruned tree](https://raw.githubusercontent.com/haris-khan1596/ML_lab1/main/car_decision_tree_withoutpruning-1.png)\n"
      ],
      "metadata": {
        "id": "LGa2bMIsEwLG"
      }
    },
    {
      "cell_type": "markdown",
      "source": [
        "# Pre-Pruning\n",
        "<hr>"
      ],
      "metadata": {
        "id": "12BxsT9LwCca"
      }
    },
    {
      "cell_type": "code",
      "source": [
        "params={\n",
        "    'max_depth': [12],\n",
        "    'min_samples_leaf': [1]\n",
        "}\n",
        "grid_search = model_selection.GridSearchCV(cls, params, cv=5)\n",
        "\n",
        "# Fit the grid search object on the training data\n",
        "grid_search.fit(X_train, y_train)\n",
        "\n",
        "# Print the best hyperparameters and the corresponding score\n",
        "print(\"Best hyperparameters:\", grid_search.best_params_)\n",
        "print(\"Best score:\", grid_search.best_score_)"
      ],
      "metadata": {
        "colab": {
          "base_uri": "https://localhost:8080/"
        },
        "id": "K-_XuOB_w7P9",
        "outputId": "034f8a6a-d348-43ad-c429-9e87d2d32c8c"
      },
      "execution_count": null,
      "outputs": [
        {
          "output_type": "stream",
          "name": "stdout",
          "text": [
            "Best hyperparameters: {'max_depth': 12, 'min_samples_leaf': 1}\n",
            "Best score: 0.9703343274211269\n"
          ]
        }
      ]
    },
    {
      "cell_type": "markdown",
      "source": [
        "## Accuracy of the pre_pruned Tree"
      ],
      "metadata": {
        "id": "WkUDwJLp9nOb"
      }
    },
    {
      "cell_type": "code",
      "source": [
        "grid_search.score(X_test,y_test)*100"
      ],
      "metadata": {
        "colab": {
          "base_uri": "https://localhost:8080/"
        },
        "id": "_Pgz7wLdzy8w",
        "outputId": "50002a16-d584-4aff-f37a-d1433d2d8d9b"
      },
      "execution_count": null,
      "outputs": [
        {
          "output_type": "execute_result",
          "data": {
            "text/plain": [
              "96.82080924855492"
            ]
          },
          "metadata": {},
          "execution_count": 37
        }
      ]
    },
    {
      "cell_type": "code",
      "source": [
        "grid_search.score(X_train,y_train)*100"
      ],
      "metadata": {
        "colab": {
          "base_uri": "https://localhost:8080/"
        },
        "id": "FlY1pUzi0A-U",
        "outputId": "ac6859ef-3e41-4223-854a-cc5d1f34e22a"
      },
      "execution_count": null,
      "outputs": [
        {
          "output_type": "execute_result",
          "data": {
            "text/plain": [
              "99.92764109985528"
            ]
          },
          "metadata": {},
          "execution_count": 38
        }
      ]
    },
    {
      "cell_type": "code",
      "source": [
        "preTree=tree.DecisionTreeClassifier(criterion=\"entropy\",max_depth=12,min_samples_leaf=1)\n",
        "#Fit the model using the fit method. \n",
        "preTree.fit(X=X_train,y=y_train)\n",
        "plt.figure(figsize=(12,8))\n",
        "tree.plot_tree(preTree) "
      ],
      "metadata": {
        "colab": {
          "base_uri": "https://localhost:8080/",
          "height": 1000
        },
        "id": "DOy7QBqb2QZj",
        "outputId": "6affb87a-beaa-48cc-f097-0bed08345e44"
      },
      "execution_count": null,
      "outputs": [
        {
          "output_type": "execute_result",
          "data": {
            "text/plain": [
              "[Text(0.5163690476190477, 0.9615384615384616, 'X[3] <= 0.5\\nentropy = 1.232\\nsamples = 1382\\nvalue = [312, 61, 956, 53]'),\n",
              " Text(0.5004960317460317, 0.8846153846153846, 'entropy = 0.0\\nsamples = 465\\nvalue = [0, 0, 465, 0]'),\n",
              " Text(0.5322420634920635, 0.8846153846153846, 'X[5] <= 0.5\\nentropy = 1.51\\nsamples = 917\\nvalue = [312, 61, 491, 53]'),\n",
              " Text(0.2569444444444444, 0.8076923076923077, 'X[0] <= 2.5\\nentropy = 1.684\\nsamples = 314\\nvalue = [171, 28, 62, 53]'),\n",
              " Text(0.13293650793650794, 0.7307692307692307, 'X[0] <= 0.5\\nentropy = 1.645\\nsamples = 236\\nvalue = [132, 28, 23, 53]'),\n",
              " Text(0.07142857142857142, 0.6538461538461539, 'X[1] <= 2.5\\nentropy = 0.781\\nsamples = 69\\nvalue = [53, 0, 16, 0]'),\n",
              " Text(0.05555555555555555, 0.5769230769230769, 'entropy = 0.0\\nsamples = 53\\nvalue = [53, 0, 0, 0]'),\n",
              " Text(0.0873015873015873, 0.5769230769230769, 'entropy = 0.0\\nsamples = 16\\nvalue = [0, 0, 16, 0]'),\n",
              " Text(0.19444444444444445, 0.6538461538461539, 'X[4] <= 1.5\\nentropy = 1.66\\nsamples = 167\\nvalue = [79, 28, 7, 53]'),\n",
              " Text(0.11904761904761904, 0.5769230769230769, 'X[1] <= 2.5\\nentropy = 1.281\\nsamples = 107\\nvalue = [47, 7, 0, 53]'),\n",
              " Text(0.10317460317460317, 0.5, 'X[1] <= 0.5\\nentropy = 1.179\\nsamples = 78\\nvalue = [18, 7, 0, 53]'),\n",
              " Text(0.06349206349206349, 0.4230769230769231, 'X[0] <= 1.5\\nentropy = 0.967\\nsamples = 28\\nvalue = [17, 0, 0, 11]'),\n",
              " Text(0.047619047619047616, 0.34615384615384615, 'X[2] <= 1.5\\nentropy = 0.75\\nsamples = 14\\nvalue = [3, 0, 0, 11]'),\n",
              " Text(0.031746031746031744, 0.2692307692307692, 'X[4] <= 0.5\\nentropy = 0.985\\nsamples = 7\\nvalue = [3, 0, 0, 4]'),\n",
              " Text(0.015873015873015872, 0.19230769230769232, 'entropy = 0.0\\nsamples = 3\\nvalue = [0, 0, 0, 3]'),\n",
              " Text(0.047619047619047616, 0.19230769230769232, 'X[2] <= 0.5\\nentropy = 0.811\\nsamples = 4\\nvalue = [3, 0, 0, 1]'),\n",
              " Text(0.031746031746031744, 0.11538461538461539, 'entropy = 0.0\\nsamples = 2\\nvalue = [2, 0, 0, 0]'),\n",
              " Text(0.06349206349206349, 0.11538461538461539, 'X[3] <= 1.5\\nentropy = 1.0\\nsamples = 2\\nvalue = [1, 0, 0, 1]'),\n",
              " Text(0.047619047619047616, 0.038461538461538464, 'entropy = 0.0\\nsamples = 1\\nvalue = [1, 0, 0, 0]'),\n",
              " Text(0.07936507936507936, 0.038461538461538464, 'entropy = 0.0\\nsamples = 1\\nvalue = [0, 0, 0, 1]'),\n",
              " Text(0.06349206349206349, 0.2692307692307692, 'entropy = 0.0\\nsamples = 7\\nvalue = [0, 0, 0, 7]'),\n",
              " Text(0.07936507936507936, 0.34615384615384615, 'entropy = 0.0\\nsamples = 14\\nvalue = [14, 0, 0, 0]'),\n",
              " Text(0.14285714285714285, 0.4230769230769231, 'X[4] <= 0.5\\nentropy = 0.721\\nsamples = 50\\nvalue = [1, 7, 0, 42]'),\n",
              " Text(0.12698412698412698, 0.34615384615384615, 'entropy = 0.0\\nsamples = 29\\nvalue = [0, 0, 0, 29]'),\n",
              " Text(0.15873015873015872, 0.34615384615384615, 'X[2] <= 1.5\\nentropy = 1.166\\nsamples = 21\\nvalue = [1, 7, 0, 13]'),\n",
              " Text(0.14285714285714285, 0.2692307692307692, 'X[2] <= 0.5\\nentropy = 1.241\\nsamples = 11\\nvalue = [1, 7, 0, 3]'),\n",
              " Text(0.1111111111111111, 0.19230769230769232, 'X[1] <= 1.5\\nentropy = 0.722\\nsamples = 5\\nvalue = [1, 4, 0, 0]'),\n",
              " Text(0.09523809523809523, 0.11538461538461539, 'entropy = 0.0\\nsamples = 3\\nvalue = [0, 3, 0, 0]'),\n",
              " Text(0.12698412698412698, 0.11538461538461539, 'X[0] <= 1.5\\nentropy = 1.0\\nsamples = 2\\nvalue = [1, 1, 0, 0]'),\n",
              " Text(0.1111111111111111, 0.038461538461538464, 'entropy = 0.0\\nsamples = 1\\nvalue = [0, 1, 0, 0]'),\n",
              " Text(0.14285714285714285, 0.038461538461538464, 'entropy = 0.0\\nsamples = 1\\nvalue = [1, 0, 0, 0]'),\n",
              " Text(0.1746031746031746, 0.19230769230769232, 'X[3] <= 1.5\\nentropy = 1.0\\nsamples = 6\\nvalue = [0, 3, 0, 3]'),\n",
              " Text(0.15873015873015872, 0.11538461538461539, 'entropy = 0.0\\nsamples = 3\\nvalue = [0, 3, 0, 0]'),\n",
              " Text(0.19047619047619047, 0.11538461538461539, 'entropy = 0.0\\nsamples = 3\\nvalue = [0, 0, 0, 3]'),\n",
              " Text(0.1746031746031746, 0.2692307692307692, 'entropy = 0.0\\nsamples = 10\\nvalue = [0, 0, 0, 10]'),\n",
              " Text(0.1349206349206349, 0.5, 'entropy = 0.0\\nsamples = 29\\nvalue = [29, 0, 0, 0]'),\n",
              " Text(0.2698412698412698, 0.5769230769230769, 'X[2] <= 0.5\\nentropy = 1.375\\nsamples = 60\\nvalue = [32, 21, 7, 0]'),\n",
              " Text(0.23809523809523808, 0.5, 'X[3] <= 1.5\\nentropy = 1.506\\nsamples = 15\\nvalue = [5, 3, 7, 0]'),\n",
              " Text(0.2222222222222222, 0.4230769230769231, 'X[1] <= 0.5\\nentropy = 0.954\\nsamples = 8\\nvalue = [5, 3, 0, 0]'),\n",
              " Text(0.20634920634920634, 0.34615384615384615, 'entropy = 0.0\\nsamples = 2\\nvalue = [2, 0, 0, 0]'),\n",
              " Text(0.23809523809523808, 0.34615384615384615, 'X[1] <= 1.5\\nentropy = 1.0\\nsamples = 6\\nvalue = [3, 3, 0, 0]'),\n",
              " Text(0.2222222222222222, 0.2692307692307692, 'entropy = 0.0\\nsamples = 2\\nvalue = [0, 2, 0, 0]'),\n",
              " Text(0.25396825396825395, 0.2692307692307692, 'X[1] <= 2.5\\nentropy = 0.811\\nsamples = 4\\nvalue = [3, 1, 0, 0]'),\n",
              " Text(0.23809523809523808, 0.19230769230769232, 'X[0] <= 1.5\\nentropy = 1.0\\nsamples = 2\\nvalue = [1, 1, 0, 0]'),\n",
              " Text(0.2222222222222222, 0.11538461538461539, 'entropy = 0.0\\nsamples = 1\\nvalue = [0, 1, 0, 0]'),\n",
              " Text(0.25396825396825395, 0.11538461538461539, 'entropy = 0.0\\nsamples = 1\\nvalue = [1, 0, 0, 0]'),\n",
              " Text(0.2698412698412698, 0.19230769230769232, 'entropy = 0.0\\nsamples = 2\\nvalue = [2, 0, 0, 0]'),\n",
              " Text(0.25396825396825395, 0.4230769230769231, 'entropy = 0.0\\nsamples = 7\\nvalue = [0, 0, 7, 0]'),\n",
              " Text(0.30158730158730157, 0.5, 'X[1] <= 0.5\\nentropy = 0.971\\nsamples = 45\\nvalue = [27, 18, 0, 0]'),\n",
              " Text(0.2857142857142857, 0.4230769230769231, 'entropy = 0.0\\nsamples = 11\\nvalue = [11, 0, 0, 0]'),\n",
              " Text(0.31746031746031744, 0.4230769230769231, 'X[1] <= 2.5\\nentropy = 0.998\\nsamples = 34\\nvalue = [16, 18, 0, 0]'),\n",
              " Text(0.30158730158730157, 0.34615384615384615, 'X[0] <= 1.5\\nentropy = 0.755\\nsamples = 23\\nvalue = [5, 18, 0, 0]'),\n",
              " Text(0.2857142857142857, 0.2692307692307692, 'entropy = 0.0\\nsamples = 12\\nvalue = [0, 12, 0, 0]'),\n",
              " Text(0.31746031746031744, 0.2692307692307692, 'X[1] <= 1.5\\nentropy = 0.994\\nsamples = 11\\nvalue = [5, 6, 0, 0]'),\n",
              " Text(0.30158730158730157, 0.19230769230769232, 'entropy = 0.0\\nsamples = 6\\nvalue = [0, 6, 0, 0]'),\n",
              " Text(0.3333333333333333, 0.19230769230769232, 'entropy = 0.0\\nsamples = 5\\nvalue = [5, 0, 0, 0]'),\n",
              " Text(0.3333333333333333, 0.34615384615384615, 'entropy = 0.0\\nsamples = 11\\nvalue = [11, 0, 0, 0]'),\n",
              " Text(0.38095238095238093, 0.7307692307692307, 'X[1] <= 0.5\\nentropy = 1.0\\nsamples = 78\\nvalue = [39, 0, 39, 0]'),\n",
              " Text(0.36507936507936506, 0.6538461538461539, 'entropy = 0.0\\nsamples = 19\\nvalue = [0, 0, 19, 0]'),\n",
              " Text(0.3968253968253968, 0.6538461538461539, 'X[1] <= 2.5\\nentropy = 0.924\\nsamples = 59\\nvalue = [39, 0, 20, 0]'),\n",
              " Text(0.38095238095238093, 0.5769230769230769, 'X[2] <= 0.5\\nentropy = 0.281\\nsamples = 41\\nvalue = [39, 0, 2, 0]'),\n",
              " Text(0.36507936507936506, 0.5, 'X[4] <= 1.5\\nentropy = 0.684\\nsamples = 11\\nvalue = [9, 0, 2, 0]'),\n",
              " Text(0.3492063492063492, 0.4230769230769231, 'entropy = 0.0\\nsamples = 7\\nvalue = [7, 0, 0, 0]'),\n",
              " Text(0.38095238095238093, 0.4230769230769231, 'X[3] <= 1.5\\nentropy = 1.0\\nsamples = 4\\nvalue = [2, 0, 2, 0]'),\n",
              " Text(0.36507936507936506, 0.34615384615384615, 'entropy = 0.0\\nsamples = 2\\nvalue = [2, 0, 0, 0]'),\n",
              " Text(0.3968253968253968, 0.34615384615384615, 'entropy = 0.0\\nsamples = 2\\nvalue = [0, 0, 2, 0]'),\n",
              " Text(0.3968253968253968, 0.5, 'entropy = 0.0\\nsamples = 30\\nvalue = [30, 0, 0, 0]'),\n",
              " Text(0.4126984126984127, 0.5769230769230769, 'entropy = 0.0\\nsamples = 18\\nvalue = [0, 0, 18, 0]'),\n",
              " Text(0.8075396825396826, 0.8076923076923077, 'X[5] <= 1.5\\nentropy = 1.069\\nsamples = 603\\nvalue = [141, 33, 429, 0]'),\n",
              " Text(0.7916666666666666, 0.7307692307692307, 'entropy = 0.0\\nsamples = 302\\nvalue = [0, 0, 302, 0]'),\n",
              " Text(0.8234126984126984, 0.7307692307692307, 'X[4] <= 1.5\\nentropy = 1.387\\nsamples = 301\\nvalue = [141, 33, 127, 0]'),\n",
              " Text(0.6944444444444444, 0.6538461538461539, 'X[0] <= 2.5\\nentropy = 1.419\\nsamples = 195\\nvalue = [108, 33, 54, 0]'),\n",
              " Text(0.5634920634920635, 0.5769230769230769, 'X[0] <= 0.5\\nentropy = 1.353\\nsamples = 145\\nvalue = [88, 33, 24, 0]'),\n",
              " Text(0.4603174603174603, 0.5, 'X[1] <= 2.5\\nentropy = 0.963\\nsamples = 49\\nvalue = [30, 0, 19, 0]'),\n",
              " Text(0.4444444444444444, 0.4230769230769231, 'X[4] <= 0.5\\nentropy = 0.65\\nsamples = 36\\nvalue = [30, 0, 6, 0]'),\n",
              " Text(0.42857142857142855, 0.34615384615384615, 'entropy = 0.0\\nsamples = 20\\nvalue = [20, 0, 0, 0]'),\n",
              " Text(0.4603174603174603, 0.34615384615384615, 'X[2] <= 1.5\\nentropy = 0.954\\nsamples = 16\\nvalue = [10, 0, 6, 0]'),\n",
              " Text(0.4444444444444444, 0.2692307692307692, 'X[3] <= 1.5\\nentropy = 0.592\\nsamples = 7\\nvalue = [1, 0, 6, 0]'),\n",
              " Text(0.42857142857142855, 0.19230769230769232, 'entropy = 0.0\\nsamples = 4\\nvalue = [0, 0, 4, 0]'),\n",
              " Text(0.4603174603174603, 0.19230769230769232, 'X[2] <= 0.5\\nentropy = 0.918\\nsamples = 3\\nvalue = [1, 0, 2, 0]'),\n",
              " Text(0.4444444444444444, 0.11538461538461539, 'entropy = 0.0\\nsamples = 2\\nvalue = [0, 0, 2, 0]'),\n",
              " Text(0.47619047619047616, 0.11538461538461539, 'entropy = 0.0\\nsamples = 1\\nvalue = [1, 0, 0, 0]'),\n",
              " Text(0.47619047619047616, 0.2692307692307692, 'entropy = 0.0\\nsamples = 9\\nvalue = [9, 0, 0, 0]'),\n",
              " Text(0.47619047619047616, 0.4230769230769231, 'entropy = 0.0\\nsamples = 13\\nvalue = [0, 0, 13, 0]'),\n",
              " Text(0.6666666666666666, 0.5, 'X[1] <= 2.5\\nentropy = 1.191\\nsamples = 96\\nvalue = [58, 33, 5, 0]'),\n",
              " Text(0.6031746031746031, 0.4230769230769231, 'X[1] <= 0.5\\nentropy = 1.156\\nsamples = 71\\nvalue = [36, 33, 2, 0]'),\n",
              " Text(0.5555555555555556, 0.34615384615384615, 'X[2] <= 1.5\\nentropy = 0.426\\nsamples = 23\\nvalue = [21, 0, 2, 0]'),\n",
              " Text(0.5396825396825397, 0.2692307692307692, 'X[3] <= 1.5\\nentropy = 0.722\\nsamples = 10\\nvalue = [8, 0, 2, 0]'),\n",
              " Text(0.5238095238095238, 0.19230769230769232, 'X[0] <= 1.5\\nentropy = 1.0\\nsamples = 4\\nvalue = [2, 0, 2, 0]'),\n",
              " Text(0.5079365079365079, 0.11538461538461539, 'entropy = 0.0\\nsamples = 2\\nvalue = [2, 0, 0, 0]'),\n",
              " Text(0.5396825396825397, 0.11538461538461539, 'entropy = 0.0\\nsamples = 2\\nvalue = [0, 0, 2, 0]'),\n",
              " Text(0.5555555555555556, 0.19230769230769232, 'entropy = 0.0\\nsamples = 6\\nvalue = [6, 0, 0, 0]'),\n",
              " Text(0.5714285714285714, 0.2692307692307692, 'entropy = 0.0\\nsamples = 13\\nvalue = [13, 0, 0, 0]'),\n",
              " Text(0.6507936507936508, 0.34615384615384615, 'X[0] <= 1.5\\nentropy = 0.896\\nsamples = 48\\nvalue = [15, 33, 0, 0]'),\n",
              " Text(0.6031746031746031, 0.2692307692307692, 'X[2] <= 1.5\\nentropy = 0.426\\nsamples = 23\\nvalue = [2, 21, 0, 0]'),\n",
              " Text(0.5873015873015873, 0.19230769230769232, 'X[4] <= 0.5\\nentropy = 0.722\\nsamples = 10\\nvalue = [2, 8, 0, 0]'),\n",
              " Text(0.5714285714285714, 0.11538461538461539, 'entropy = 0.0\\nsamples = 6\\nvalue = [0, 6, 0, 0]'),\n",
              " Text(0.6031746031746031, 0.11538461538461539, 'X[3] <= 1.5\\nentropy = 1.0\\nsamples = 4\\nvalue = [2, 2, 0, 0]'),\n",
              " Text(0.5873015873015873, 0.038461538461538464, 'entropy = 0.0\\nsamples = 2\\nvalue = [2, 0, 0, 0]'),\n",
              " Text(0.6190476190476191, 0.038461538461538464, 'entropy = 0.0\\nsamples = 2\\nvalue = [0, 2, 0, 0]'),\n",
              " Text(0.6190476190476191, 0.19230769230769232, 'entropy = 0.0\\nsamples = 13\\nvalue = [0, 13, 0, 0]'),\n",
              " Text(0.6984126984126984, 0.2692307692307692, 'X[1] <= 1.5\\nentropy = 0.999\\nsamples = 25\\nvalue = [13, 12, 0, 0]'),\n",
              " Text(0.6825396825396826, 0.19230769230769232, 'X[2] <= 1.5\\nentropy = 0.722\\nsamples = 15\\nvalue = [3, 12, 0, 0]'),\n",
              " Text(0.6666666666666666, 0.11538461538461539, 'X[4] <= 0.5\\nentropy = 0.954\\nsamples = 8\\nvalue = [3, 5, 0, 0]'),\n",
              " Text(0.6507936507936508, 0.038461538461538464, 'entropy = 0.0\\nsamples = 4\\nvalue = [0, 4, 0, 0]'),\n",
              " Text(0.6825396825396826, 0.038461538461538464, 'entropy = 0.811\\nsamples = 4\\nvalue = [3, 1, 0, 0]'),\n",
              " Text(0.6984126984126984, 0.11538461538461539, 'entropy = 0.0\\nsamples = 7\\nvalue = [0, 7, 0, 0]'),\n",
              " Text(0.7142857142857143, 0.19230769230769232, 'entropy = 0.0\\nsamples = 10\\nvalue = [10, 0, 0, 0]'),\n",
              " Text(0.7301587301587301, 0.4230769230769231, 'X[4] <= 0.5\\nentropy = 0.529\\nsamples = 25\\nvalue = [22, 0, 3, 0]'),\n",
              " Text(0.7142857142857143, 0.34615384615384615, 'entropy = 0.0\\nsamples = 14\\nvalue = [14, 0, 0, 0]'),\n",
              " Text(0.746031746031746, 0.34615384615384615, 'X[2] <= 0.5\\nentropy = 0.845\\nsamples = 11\\nvalue = [8, 0, 3, 0]'),\n",
              " Text(0.7301587301587301, 0.2692307692307692, 'entropy = 0.0\\nsamples = 2\\nvalue = [0, 0, 2, 0]'),\n",
              " Text(0.7619047619047619, 0.2692307692307692, 'X[2] <= 1.5\\nentropy = 0.503\\nsamples = 9\\nvalue = [8, 0, 1, 0]'),\n",
              " Text(0.746031746031746, 0.19230769230769232, 'X[3] <= 1.5\\nentropy = 0.918\\nsamples = 3\\nvalue = [2, 0, 1, 0]'),\n",
              " Text(0.7301587301587301, 0.11538461538461539, 'entropy = 0.0\\nsamples = 1\\nvalue = [0, 0, 1, 0]'),\n",
              " Text(0.7619047619047619, 0.11538461538461539, 'entropy = 0.0\\nsamples = 2\\nvalue = [2, 0, 0, 0]'),\n",
              " Text(0.7777777777777778, 0.19230769230769232, 'entropy = 0.0\\nsamples = 6\\nvalue = [6, 0, 0, 0]'),\n",
              " Text(0.8253968253968254, 0.5769230769230769, 'X[1] <= 0.5\\nentropy = 0.971\\nsamples = 50\\nvalue = [20, 0, 30, 0]'),\n",
              " Text(0.8095238095238095, 0.5, 'entropy = 0.0\\nsamples = 15\\nvalue = [0, 0, 15, 0]'),\n",
              " Text(0.8412698412698413, 0.5, 'X[1] <= 2.5\\nentropy = 0.985\\nsamples = 35\\nvalue = [20, 0, 15, 0]'),\n",
              " Text(0.8253968253968254, 0.4230769230769231, 'X[2] <= 1.5\\nentropy = 0.559\\nsamples = 23\\nvalue = [20, 0, 3, 0]'),\n",
              " Text(0.8095238095238095, 0.34615384615384615, 'X[4] <= 0.5\\nentropy = 0.881\\nsamples = 10\\nvalue = [7, 0, 3, 0]'),\n",
              " Text(0.7936507936507936, 0.2692307692307692, 'entropy = 0.0\\nsamples = 5\\nvalue = [5, 0, 0, 0]'),\n",
              " Text(0.8253968253968254, 0.2692307692307692, 'X[3] <= 1.5\\nentropy = 0.971\\nsamples = 5\\nvalue = [2, 0, 3, 0]'),\n",
              " Text(0.8095238095238095, 0.19230769230769232, 'entropy = 0.0\\nsamples = 3\\nvalue = [0, 0, 3, 0]'),\n",
              " Text(0.8412698412698413, 0.19230769230769232, 'entropy = 0.0\\nsamples = 2\\nvalue = [2, 0, 0, 0]'),\n",
              " Text(0.8412698412698413, 0.34615384615384615, 'entropy = 0.0\\nsamples = 13\\nvalue = [13, 0, 0, 0]'),\n",
              " Text(0.8571428571428571, 0.4230769230769231, 'entropy = 0.0\\nsamples = 12\\nvalue = [0, 0, 12, 0]'),\n",
              " Text(0.9523809523809523, 0.6538461538461539, 'X[0] <= 2.5\\nentropy = 0.895\\nsamples = 106\\nvalue = [33, 0, 73, 0]'),\n",
              " Text(0.9365079365079365, 0.5769230769230769, 'X[0] <= 0.5\\nentropy = 0.98\\nsamples = 79\\nvalue = [33, 0, 46, 0]'),\n",
              " Text(0.9206349206349206, 0.5, 'entropy = 0.0\\nsamples = 24\\nvalue = [0, 0, 24, 0]'),\n",
              " Text(0.9523809523809523, 0.5, 'X[1] <= 2.5\\nentropy = 0.971\\nsamples = 55\\nvalue = [33, 0, 22, 0]'),\n",
              " Text(0.9365079365079365, 0.4230769230769231, 'X[1] <= 0.5\\nentropy = 0.75\\nsamples = 42\\nvalue = [33, 0, 9, 0]'),\n",
              " Text(0.9047619047619048, 0.34615384615384615, 'X[0] <= 1.5\\nentropy = 0.996\\nsamples = 13\\nvalue = [7, 0, 6, 0]'),\n",
              " Text(0.8888888888888888, 0.2692307692307692, 'X[2] <= 0.5\\nentropy = 0.544\\nsamples = 8\\nvalue = [7, 0, 1, 0]'),\n",
              " Text(0.873015873015873, 0.19230769230769232, 'X[3] <= 1.5\\nentropy = 1.0\\nsamples = 2\\nvalue = [1, 0, 1, 0]'),\n",
              " Text(0.8571428571428571, 0.11538461538461539, 'entropy = 0.0\\nsamples = 1\\nvalue = [1, 0, 0, 0]'),\n",
              " Text(0.8888888888888888, 0.11538461538461539, 'entropy = 0.0\\nsamples = 1\\nvalue = [0, 0, 1, 0]'),\n",
              " Text(0.9047619047619048, 0.19230769230769232, 'entropy = 0.0\\nsamples = 6\\nvalue = [6, 0, 0, 0]'),\n",
              " Text(0.9206349206349206, 0.2692307692307692, 'entropy = 0.0\\nsamples = 5\\nvalue = [0, 0, 5, 0]'),\n",
              " Text(0.9682539682539683, 0.34615384615384615, 'X[2] <= 0.5\\nentropy = 0.48\\nsamples = 29\\nvalue = [26, 0, 3, 0]'),\n",
              " Text(0.9523809523809523, 0.2692307692307692, 'X[3] <= 1.5\\nentropy = 0.985\\nsamples = 7\\nvalue = [4, 0, 3, 0]'),\n",
              " Text(0.9365079365079365, 0.19230769230769232, 'entropy = 0.0\\nsamples = 4\\nvalue = [4, 0, 0, 0]'),\n",
              " Text(0.9682539682539683, 0.19230769230769232, 'entropy = 0.0\\nsamples = 3\\nvalue = [0, 0, 3, 0]'),\n",
              " Text(0.9841269841269841, 0.2692307692307692, 'entropy = 0.0\\nsamples = 22\\nvalue = [22, 0, 0, 0]'),\n",
              " Text(0.9682539682539683, 0.4230769230769231, 'entropy = 0.0\\nsamples = 13\\nvalue = [0, 0, 13, 0]'),\n",
              " Text(0.9682539682539683, 0.5769230769230769, 'entropy = 0.0\\nsamples = 27\\nvalue = [0, 0, 27, 0]')]"
            ]
          },
          "metadata": {},
          "execution_count": 49
        },
        {
          "output_type": "display_data",
          "data": {
            "text/plain": [
              "<Figure size 864x576 with 1 Axes>"
            ],
            "image/png": "[encoded data removed]"
          },
          "metadata": {
            "needs_background": "light"
          }
        }
      ]
    },
    {
      "cell_type": "code",
      "source": [
        "dot_data = tree.export_graphviz(preTree, out_file=None, \n",
        "                      feature_names=featureNames,  \n",
        "                      class_names=[\"acc\",\"good\",\"unacc\",\"vgood\"],  \n",
        "                      filled=True, rounded=True,  \n",
        "                      special_characters=True)  \n",
        "graph = graphviz.Source(dot_data)  \n",
        "graph.render(\"car_decision_tree_pre_pruning\") \n",
        "print(\"pre pruning max depth\",preTree.tree_.max_depth,\"\\npre prunning nodes\",preTree.tree_.node_count)"
      ],
      "metadata": {
        "colab": {
          "base_uri": "https://localhost:8080/"
        },
        "id": "7-GMBzcn0Tf9",
        "outputId": "b154825b-092c-444e-f70b-b20ebe3b3d37"
      },
      "execution_count": null,
      "outputs": [
        {
          "output_type": "stream",
          "name": "stdout",
          "text": [
            "pre pruning max depth 12 \n",
            "pre prunning nodes 147\n"
          ]
        }
      ]
    },
    {
      "cell_type": "markdown",
      "source": [
        "## Tree Diagram\n",
        "![Decision tree Pre-Pruning](https://raw.githubusercontent.com/haris-khan1596/ML_lab1/main/car_decision_tree_pre_pruning-1.png)"
      ],
      "metadata": {
        "id": "J_jp7MkKFIke"
      }
    },
    {
      "cell_type": "markdown",
      "source": [
        "# Post Pruning\n",
        "<hr>"
      ],
      "metadata": {
        "id": "n1OPfvF64Z6m"
      }
    },
    {
      "cell_type": "code",
      "source": [
        "postTree = tree.DecisionTreeClassifier(criterion='entropy', ccp_alpha=0.01)\n",
        "# Train the model on the training data\n",
        "postTree.fit(X_train, y_train)"
      ],
      "metadata": {
        "colab": {
          "base_uri": "https://localhost:8080/"
        },
        "id": "3MOBUgck4t0m",
        "outputId": "89968fb2-7589-4c37-a34d-c4bebaa9ffc9"
      },
      "execution_count": null,
      "outputs": [
        {
          "output_type": "execute_result",
          "data": {
            "text/plain": [
              "DecisionTreeClassifier(ccp_alpha=0.01, criterion='entropy')"
            ]
          },
          "metadata": {},
          "execution_count": 67
        }
      ]
    },
    {
      "cell_type": "markdown",
      "source": [
        "## Accuracy of post_pruned Tree"
      ],
      "metadata": {
        "id": "pX5FOyOS9zaE"
      }
    },
    {
      "cell_type": "code",
      "source": [
        "# Evaluate the model on the testing data\n",
        "postTree.score(X_test, y_test)"
      ],
      "metadata": {
        "colab": {
          "base_uri": "https://localhost:8080/"
        },
        "id": "OlO6nOGF5msT",
        "outputId": "a45bc7c7-0e9b-4240-99a4-57ab0941da74"
      },
      "execution_count": null,
      "outputs": [
        {
          "output_type": "execute_result",
          "data": {
            "text/plain": [
              "0.9104046242774566"
            ]
          },
          "metadata": {},
          "execution_count": 68
        }
      ]
    },
    {
      "cell_type": "code",
      "source": [
        "# Evaluate the model on the testing data\n",
        "postTree.score(X_train, y_train)"
      ],
      "metadata": {
        "colab": {
          "base_uri": "https://localhost:8080/"
        },
        "id": "p-GatTgG5peW",
        "outputId": "5cbbfd71-6915-4930-88a2-0cdf11f02025"
      },
      "execution_count": null,
      "outputs": [
        {
          "output_type": "execute_result",
          "data": {
            "text/plain": [
              "0.9479015918958031"
            ]
          },
          "metadata": {},
          "execution_count": 69
        }
      ]
    },
    {
      "cell_type": "markdown",
      "source": [
        "## Depth of post_pruned tree"
      ],
      "metadata": {
        "id": "XCnU0bLc95P_"
      }
    },
    {
      "cell_type": "code",
      "source": [
        "postTree.tree_.max_depth"
      ],
      "metadata": {
        "colab": {
          "base_uri": "https://localhost:8080/"
        },
        "id": "AUlaKSSo57Ue",
        "outputId": "1daa1ffd-1d9c-42c7-b7aa-1aaf1b26c24f"
      },
      "execution_count": null,
      "outputs": [
        {
          "output_type": "execute_result",
          "data": {
            "text/plain": [
              "8"
            ]
          },
          "metadata": {},
          "execution_count": 70
        }
      ]
    },
    {
      "cell_type": "markdown",
      "source": [
        "## Number of nodes of the post_pruned tree"
      ],
      "metadata": {
        "id": "ksjkTo539-aL"
      }
    },
    {
      "cell_type": "code",
      "source": [
        "postTree.tree_.node_count"
      ],
      "metadata": {
        "colab": {
          "base_uri": "https://localhost:8080/"
        },
        "id": "BgYv2c0k6Bj8",
        "outputId": "ebd6d7df-09d5-4390-8bec-782c3fe3723b"
      },
      "execution_count": null,
      "outputs": [
        {
          "output_type": "execute_result",
          "data": {
            "text/plain": [
              "51"
            ]
          },
          "metadata": {},
          "execution_count": 71
        }
      ]
    },
    {
      "cell_type": "code",
      "source": [
        "dot_data = tree.export_graphviz(postTree, out_file=None, \n",
        "                      feature_names=featureNames,  \n",
        "                      class_names=[\"acc\",\"good\",\"unacc\",\"vgood\"],  \n",
        "                      filled=True, rounded=True,  \n",
        "                      special_characters=True)  \n",
        "graph = graphviz.Source(dot_data)  \n",
        "graph.render(\"car_decision_tree_post_pruning\") \n",
        "print(\"pre pruning max depth\",postTree.tree_.max_depth,\"\\npre prunning nodes\",postTree.tree_.node_count)"
      ],
      "metadata": {
        "colab": {
          "base_uri": "https://localhost:8080/"
        },
        "id": "5kT710UC7ZSI",
        "outputId": "1f345864-b680-45f6-e0d7-e8f90d4c5e09"
      },
      "execution_count": null,
      "outputs": [
        {
          "output_type": "stream",
          "name": "stdout",
          "text": [
            "pre pruning max depth 8 \n",
            "pre prunning nodes 51\n"
          ]
        }
      ]
    },
    {
      "cell_type": "markdown",
      "source": [
        "## Tree Diagram\n",
        "![Decision Tree Post-Pruning](https://raw.githubusercontent.com/haris-khan1596/ML_lab1/main/car_decision_tree_post_pruning-1.png)"
      ],
      "metadata": {
        "id": "N19NwCXOGR_h"
      }
    }
  ]
}
